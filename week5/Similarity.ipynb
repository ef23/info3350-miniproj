{
 "cells": [
  {
   "cell_type": "markdown",
   "metadata": {},
   "source": [
    "# Similarity functions and old cowboy novels\n",
    "\n",
    "We've had enough problems involving `spacy` installation that we will not be using it this week. But try to have it installed for Monday."
   ]
  },
  {
   "cell_type": "code",
   "execution_count": 10,
   "metadata": {
    "collapsed": true
   },
   "outputs": [],
   "source": [
    "from collections import Counter\n",
    "import math, glob, csv, re, numpy\n",
    "from matplotlib import pyplot"
   ]
  },
  {
   "cell_type": "code",
   "execution_count": 70,
   "metadata": {},
   "outputs": [
    {
     "name": "stdout",
     "output_type": "stream",
     "text": [
      "Reading The Desert of Wheat (10201.txt)\n",
      "Reading The Lone Star Ranger (1027-0.txt)\n",
      "Reading The Light of the Western Stars (1095-0.txt)\n",
      "Reading Tales of Lonely Trails (12225.txt)\n",
      "Reading The Spirit of the Border (1239.txt)\n",
      "Reading Betty Zane (1261.txt)\n",
      "Reading The Heritage of the Desert (1262-0.txt)\n",
      "Reading Riders of the Purple Sage (1300.txt)\n",
      "Reading The Mysterious Rider (13937.txt)\n",
      "Reading The Rustlers of Pecos County (15580.txt)\n",
      "Reading The Day of the Beast (15673.txt)\n",
      "Reading The Call of the Canyon (1881.txt)\n",
      "Reading The Young Forester (1882.txt)\n",
      "Reading The Young Pitcher (19246.txt)\n",
      "Reading The Last of the Plainsmen (2057.txt)\n",
      "Reading Wildfire (2066.txt)\n",
      "Reading To the Last Man (2070.txt)\n",
      "Reading Tales of Fishes (29346.txt)\n",
      "Reading The Man of the Forest (3457.txt)\n",
      "Reading The Redheaded Outfielder (385.txt)\n",
      "Reading The Border Legion (4552.txt)\n",
      "Reading Ken Ward in the Jungle (45974.txt)\n",
      "Reading The U. P. Trail (4684.txt)\n",
      "Reading Desert Gold (502.txt)\n",
      "Reading The Rainbow Trail (5067.txt)\n",
      "Reading Tappan's Burro (59548.txt)\n",
      "Reading The Wanderer of the Wasteland (60102.txt)\n",
      "Reading The Last Trail (9932.txt)\n"
     ]
    }
   ],
   "source": [
    "## Read metadata and text for novels\n",
    "\n",
    "word_pattern = re.compile(\"\\w[\\w\\-\\']*\\w|\\w\")\n",
    "\n",
    "novels = []\n",
    "\n",
    "all_counts = Counter()\n",
    "\n",
    "with open(\"../data/westerns/zg_metadata.tsv\") as file_reader:\n",
    "    tsv_reader = csv.DictReader(file_reader, delimiter=\"\\t\")\n",
    "    \n",
    "    for row in tsv_reader:\n",
    "        \n",
    "        print(\"Reading {} ({})\".format(row[\"Title\"], row[\"Filename\"]))\n",
    "        novels.append(row)\n",
    "        row[\"Year\"] = int(row[\"Year\"])\n",
    "        \n",
    "        counter = Counter()\n",
    "        row[\"Tokens\"] = counter\n",
    "        \n",
    "        line_buffer = []\n",
    "        \n",
    "        with open(\"../data/westerns/{}\".format(row[\"Filename\"])) as reader:\n",
    "            for line in reader:\n",
    "                line = line.rstrip()\n",
    "                \n",
    "                ## The encoding looks like it messed up for some documents\n",
    "                line = line.replace(\"â\", \"'\")\n",
    "                \n",
    "                ## split m-dashes\n",
    "                line = line.replace(\"--\", \" -- \")\n",
    "                \n",
    "                if line != \"\":\n",
    "                    line_buffer.append(line)\n",
    "                else:\n",
    "                    counter.update(word_pattern.findall(\" \".join(line_buffer)))\n",
    "                    \n",
    "                    # Not using Spacy version for now, but this is what it would look like\n",
    "                    #tokens = nlp(\" \".join(line_buffer))\n",
    "                    #counter.update([token.text for token in tokens])\n",
    "                    \n",
    "                    line_buffer = []\n",
    "        \n",
    "        all_counts += counter\n",
    "                    "
   ]
  },
  {
   "cell_type": "code",
   "execution_count": 71,
   "metadata": {},
   "outputs": [],
   "source": [
    "# Construct a fixed vocabulary\n",
    "\n",
    "vocabulary = [w for w, c in all_counts.most_common()]\n",
    "vocabulary_size = len(vocabulary)\n",
    "\n",
    "reverse_vocab = { w: i for i, w in enumerate(vocabulary) }"
   ]
  },
  {
   "cell_type": "code",
   "execution_count": 72,
   "metadata": {
    "collapsed": true
   },
   "outputs": [],
   "source": [
    "def counter_to_vector(counter):\n",
    "    vector = numpy.zeros(vocabulary_size)\n",
    "    for word in counter.keys():\n",
    "        ## look up the integer ID for the string\n",
    "        word_id = reverse_vocab[word]\n",
    "        vector[word_id] = counter[word]\n",
    "    \n",
    "    return vector / vector.sum()"
   ]
  },
  {
   "cell_type": "code",
   "execution_count": 73,
   "metadata": {},
   "outputs": [],
   "source": [
    "# Convert counters to vectors\n",
    "all_vector = counter_to_vector(all_counts)\n",
    "\n",
    "for novel in novels:\n",
    "    novel[\"Vector\"] = counter_to_vector(novel[\"Tokens\"])"
   ]
  },
  {
   "cell_type": "markdown",
   "metadata": {},
   "source": [
    "1. \n",
    "\n",
    "The next cell shows the distribution of dates of publication for this set of novels. What is the significance of 1925?\n",
    "\n",
    "[Answer below]\n",
    "\n"
   ]
  },
  {
   "cell_type": "code",
   "execution_count": 74,
   "metadata": {},
   "outputs": [
    {
     "data": {
      "image/png": "[encoded data removed]",
      "text/plain": [
       "<Figure size 432x288 with 1 Axes>"
      ]
     },
     "metadata": {},
     "output_type": "display_data"
    }
   ],
   "source": [
    "# Sort the novels in chronological order\n",
    "\n",
    "novels.sort(key=lambda x: x[\"Year\"])\n",
    "\n",
    "pyplot.hist([novel[\"Year\"] for novel in novels], bins=range(1903,1930), width=0.9)\n",
    "pyplot.show()"
   ]
  },
  {
   "cell_type": "markdown",
   "metadata": {},
   "source": [
    "2.\n",
    "\n",
    "The following cell shows the terms of the KL divergence function, highlighting the words with the largest contributions, both positive and negative.\n",
    "\n",
    "What do you notice about these words? Provide five examples and suggest why a word is under or overrepresented in a novel.\n",
    "\n",
    "Does this view give you a sense of what the novel is about?\n",
    "\n",
    "[Answer below]"
   ]
  },
  {
   "cell_type": "code",
   "execution_count": 79,
   "metadata": {},
   "outputs": [
    {
     "name": "stdout",
     "output_type": "stream",
     "text": [
      "0 Betty Zane\n",
      "Betty (0.026), the (0.016), Zane (0.013), Isaac (0.011), Col (0.009), Alfred (0.009), Indians (0.008), Clarke (0.007), Wetzel (0.007), is (0.006), and (0.006), Myeerah (0.005), you (0.005), Miller (0.005), have (0.005), Colonel (0.005), Fort (0.004), Indian (0.004), said (0.004), am (0.003)\n",
      "with (-0.001), down (-0.001), off (-0.001), if (-0.001), what (-0.001), upon (-0.001), there (-0.001), seemed (-0.001), a (-0.001), my (-0.001), then (-0.001), And (-0.001), Then (-0.001), him (-0.001), out (-0.002), But (-0.002), he (-0.002), an (-0.002), was (-0.002), to (-0.004)\n",
      "\n",
      "1 The Spirit of the Border\n",
      "Joe (0.020), the (0.015), Wetzel (0.012), Girty (0.010), Jim (0.010), his (0.009), Indians (0.007), Nell (0.006), Indian (0.006), Heckewelder (0.005), Wingenund (0.004), Wells (0.004), Edwards (0.004), savages (0.004), Joe's (0.004), Winds (0.003), renegade (0.003), Village (0.003), Silvertip (0.003), The (0.003)\n",
      "a (-0.001), It (-0.001), She (-0.001), down (-0.001), not (-0.001), it (-0.001), had (-0.001), was (-0.001), up (-0.001), my (-0.001), you (-0.002), out (-0.002), But (-0.002), me (-0.002), she (-0.003), that (-0.003), her (-0.003), to (-0.005), and (-0.005), I (-0.006)\n",
      "\n",
      "2 The Last of the Plainsmen\n",
      "Jones (0.030), the (0.023), Frank (0.010), Rea (0.008), and (0.007), Wallace (0.007), of (0.007), dogs (0.007), cougar (0.006), a (0.005), I (0.005), Sounder (0.005), my (0.005), we (0.005), Moze (0.005), buffalo (0.005), Satan (0.004), lion (0.004), Jones's (0.004), on (0.003)\n",
      "this (-0.001), there (-0.001), She (-0.001), And (-0.001), what (-0.001), for (-0.001), But (-0.002), be (-0.002), had (-0.002), not (-0.002), his (-0.002), him (-0.002), He (-0.002), she (-0.002), that (-0.003), her (-0.004), to (-0.004), you (-0.004), was (-0.004), he (-0.005)\n",
      "\n",
      "3 The Last Trail\n",
      "Jonathan (0.021), Helen (0.014), Brandt (0.013), borderman (0.013), Zane (0.013), Wetzel (0.012), Colonel (0.009), Legget (0.008), the (0.007), Sheppard (0.005), Case (0.005), Betty (0.004), bordermen (0.004), colonel (0.004), with (0.004), border (0.003), Mordaunt (0.003), Metzar (0.003), as (0.003), Fort (0.003)\n",
      "for (-0.001), there (-0.001), not (-0.001), down (-0.001), out (-0.001), up (-0.001), you (-0.001), It (-0.001), my (-0.001), me (-0.001), had (-0.002), But (-0.002), he (-0.002), it (-0.002), that (-0.003), was (-0.003), of (-0.003), and (-0.005), I (-0.005), to (-0.006)\n",
      "\n",
      "4 The Heritage of the Desert\n",
      "Hare (0.041), Naab (0.023), the (0.023), Mescal (0.022), August (0.014), Silvermane (0.013), Snap (0.011), his (0.009), Holderness (0.009), Dave (0.007), Wolf (0.006), Jack (0.006), and (0.006), Naab's (0.005), of (0.005), sheep (0.004), Dene (0.004), Bolly (0.004), Hare's (0.004), desert (0.004)\n",
      "did (-0.001), have (-0.001), She (-0.001), been (-0.001), all (-0.001), But (-0.001), my (-0.001), it (-0.001), a (-0.001), you (-0.002), me (-0.002), not (-0.002), to (-0.002), an (-0.002), she (-0.003), had (-0.003), her (-0.003), was (-0.004), that (-0.004), I (-0.006)\n",
      "\n",
      "5 The Young Forester\n",
      "I (0.056), my (0.023), me (0.017), Dick (0.015), Buell (0.015), Herky (0.009), Bud (0.009), Hiram (0.008), Greaser (0.007), forest (0.005), Leslie (0.005), Penetier (0.005), Bill (0.005), was (0.005), up (0.004), Herky-Jerky (0.004), Stockton (0.004), Holston (0.004), forestry (0.004), fire (0.004)\n",
      "her (-0.001), been (-0.001), But (-0.001), or (-0.001), who (-0.001), their (-0.001), with (-0.001), is (-0.001), never (-0.001), this (-0.001), And (-0.001), man (-0.001), in (-0.001), that (-0.001), him (-0.002), you (-0.002), He (-0.002), his (-0.004), of (-0.005), he (-0.005)\n",
      "\n",
      "6 The Young Pitcher\n",
      "Ken (0.055), Worry (0.024), ball (0.017), Raymond (0.015), Arthurs (0.014), Peg (0.013), Homans (0.012), coach (0.011), Reddy (0.011), varsity (0.011), team (0.011), students (0.010), Place (0.009), players (0.009), Ken's (0.008), hit (0.008), Ward (0.008), college (0.007), Wayne (0.007), Weir (0.007)\n",
      "be (-0.001), life (-0.001), with (-0.001), see (-0.001), where (-0.001), or (-0.001), not (-0.001), men (-0.001), face (-0.001), back (-0.001), eyes (-0.001), which (-0.001), there (-0.001), man (-0.001), my (-0.001), me (-0.002), an (-0.002), had (-0.003), I (-0.006), of (-0.007)\n",
      "\n",
      "7 Riders of the Purple Sage\n",
      "Venters (0.030), Jane (0.023), Lassiter (0.018), her (0.008), Bess (0.008), Withersteen (0.008), sage (0.008), Tull (0.007), Wrangle (0.005), of (0.004), riders (0.004), she (0.004), rider (0.004), Oldring (0.003), Fay (0.003), Venters's (0.003), Black (0.003), Star (0.003), en (0.003), you (0.003)\n",
      "did (-0.001), replied (-0.001), over (-0.001), at (-0.001), were (-0.001), his (-0.001), have (-0.001), out (-0.001), we (-0.001), I (-0.001), is (-0.001), with (-0.001), up (-0.001), He (-0.001), on (-0.001), not (-0.001), a (-0.001), The (-0.002), was (-0.003), the (-0.003)\n",
      "\n",
      "8 Ken Ward in the Jungle\n",
      "Ken (0.090), Pepe (0.042), Hal (0.036), George (0.035), boat (0.020), the (0.016), s (0.016), boys (0.011), jungle (0.010), river (0.008), water (0.008), he (0.006), t (0.006), and (0.006), ll (0.005), was (0.005), jaguar (0.005), a (0.004), oars (0.004), natives (0.004)\n",
      "your (-0.001), now (-0.001), face (-0.001), never (-0.001), this (-0.001), But (-0.001), be (-0.001), man (-0.001), been (-0.001), in (-0.001), is (-0.001), his (-0.001), my (-0.001), him (-0.001), had (-0.001), of (-0.002), me (-0.002), an (-0.002), you (-0.003), I (-0.007)\n",
      "\n",
      "9 Desert Gold\n",
      "Gale (0.038), Belding (0.021), Dick (0.015), Yaqui (0.012), Ladd (0.012), Mercedes (0.010), Nell (0.009), Thorne (0.009), Rojas (0.008), Laddy (0.006), Sol (0.006), lava (0.006), Blanco (0.005), Gale's (0.005), Cameron (0.005), desert (0.004), Lash (0.004), Forlorn (0.004), was (0.004), Belding's (0.003)\n",
      "will (-0.000), all (-0.000), You (-0.000), like (-0.000), it (-0.001), said (-0.001), is (-0.001), not (-0.001), we (-0.001), And (-0.001), She (-0.001), of (-0.001), my (-0.001), me (-0.001), with (-0.001), on (-0.002), you (-0.002), she (-0.003), her (-0.003), I (-0.005)\n",
      "\n",
      "10 The Light of the Western Stars\n",
      "Madeline (0.036), Stewart (0.021), her (0.012), she (0.010), Stillwell (0.010), Nels (0.008), cowboys (0.008), Florence (0.008), Monty (0.007), Gene (0.006), Majesty (0.006), an (0.005), Hammond (0.005), Madeline's (0.005), Link (0.005), Stewart's (0.005), to (0.004), She (0.004), cowboy (0.004), Miss (0.003)\n",
      "men (-0.000), but (-0.000), my (-0.001), we (-0.001), one (-0.001), this (-0.001), me (-0.001), out (-0.001), with (-0.001), The (-0.001), had (-0.001), of (-0.001), on (-0.002), him (-0.002), He (-0.002), I (-0.002), and (-0.003), his (-0.003), he (-0.004), the (-0.006)\n",
      "\n",
      "11 The Rustlers of Pecos County\n",
      "I (0.046), Steele (0.036), Sampson (0.028), Sally (0.019), me (0.018), my (0.015), Russ (0.014), Wright (0.013), Diane (0.009), Ranger (0.009), Miss (0.008), Linrock (0.007), Blome (0.007), Steele's (0.006), to (0.006), you (0.005), Hoden (0.005), was (0.005), Sampson's (0.005), Snecker (0.004)\n",
      "up (-0.001), A (-0.001), by (-0.001), into (-0.001), they (-0.001), which (-0.001), is (-0.001), from (-0.001), over (-0.001), He (-0.001), down (-0.001), him (-0.001), a (-0.002), an (-0.002), The (-0.003), his (-0.005), of (-0.005), he (-0.006), and (-0.006), the (-0.018)\n",
      "\n",
      "12 The Lone Star Ranger\n",
      "Duane (0.066), Longstreth (0.012), he (0.011), Bland (0.008), He (0.006), Duane's (0.006), outlaw (0.005), Euchre (0.005), Poggin (0.005), Jennie (0.005), his (0.005), Buck (0.005), Lawson (0.004), outlaws (0.004), him (0.004), you (0.004), a (0.004), Laramie (0.004), Fletcher (0.003), MacNelly (0.003)\n",
      "over (-0.000), white (-0.000), is (-0.001), from (-0.001), they (-0.001), but (-0.001), up (-0.001), as (-0.001), we (-0.001), down (-0.001), it (-0.001), She (-0.001), The (-0.001), my (-0.001), of (-0.002), she (-0.003), her (-0.004), I (-0.005), and (-0.008), the (-0.010)\n",
      "\n",
      "13 The Rainbow Trail\n",
      "Shefford (0.056), Ta (0.011), Nas (0.011), Bega (0.010), Fay (0.010), and (0.009), Joe (0.008), Indian (0.008), Withers (0.007), caÃ (0.007), the (0.007), he (0.006), Mormon (0.006), Lake (0.005), Shefford's (0.005), Larkin (0.004), women (0.003), Mormons (0.003), trader (0.003), Stonebridge (0.003)\n",
      "An (-0.000), You (-0.000), men (-0.000), got (-0.000), over (-0.000), as (-0.000), your (-0.001), by (-0.001), it (-0.001), all (-0.001), out (-0.001), we (-0.001), up (-0.001), for (-0.001), she (-0.001), you (-0.001), my (-0.001), me (-0.001), an (-0.002), I (-0.005)\n",
      "\n",
      "14 The Border Legion\n",
      "Joan (0.047), Kells (0.042), Cleve (0.019), she (0.016), Gulden (0.016), her (0.016), Jim (0.012), Pearce (0.009), She (0.008), gold (0.005), Kells's (0.005), men (0.005), bandit (0.004), Wood (0.004), Roberts (0.004), Joan's (0.004), Smith (0.003), was (0.003), Bate (0.003), you (0.003)\n",
      "to (-0.000), are (-0.001), their (-0.001), old (-0.001), long (-0.001), we (-0.001), from (-0.001), they (-0.001), little (-0.001), as (-0.001), up (-0.001), down (-0.001), an (-0.001), is (-0.001), on (-0.001), my (-0.001), The (-0.002), of (-0.002), I (-0.005), the (-0.013)\n",
      "\n",
      "15 Wildfire\n",
      "Slone (0.041), Lucy (0.039), Bostil (0.032), Wildfire (0.018), Creech (0.014), King (0.011), Joel (0.009), Holley (0.008), he (0.007), Bostil's (0.006), horse (0.006), rider (0.006), Cordts (0.006), riders (0.005), Nagger (0.005), race (0.005), stallion (0.005), him (0.005), was (0.005), Lucy's (0.004)\n",
      "be (-0.001), have (-0.001), are (-0.001), it (-0.001), for (-0.001), men (-0.001), their (-0.001), with (-0.001), we (-0.001), they (-0.001), from (-0.001), is (-0.001), in (-0.001), me (-0.001), my (-0.001), and (-0.002), to (-0.002), the (-0.004), of (-0.005), I (-0.005)\n",
      "\n",
      "16 The U. P. Trail\n",
      "Neale (0.051), s (0.025), Allie (0.024), Larry (0.012), t (0.011), Durade (0.009), ll (0.008), Slingerland (0.007), Benton (0.007), Casey (0.006), Lee (0.005), Hough (0.005), her (0.005), Stanton (0.004), m (0.004), Lodge (0.004), Sioux (0.004), ve (0.004), re (0.003), she (0.003)\n",
      "time (-0.000), about (-0.000), when (-0.001), in (-0.001), little (-0.001), never (-0.001), an (-0.001), is (-0.001), on (-0.001), have (-0.001), me (-0.001), of (-0.001), down (-0.001), and (-0.001), as (-0.001), my (-0.001), I (-0.002), the (-0.002), to (-0.003), a (-0.003)\n",
      "\n",
      "17 The Desert of Wheat\n",
      "Lenore (0.025), Kurt (0.023), Dorn (0.020), W (0.016), Anderson (0.013), wheat (0.013), war (0.005), father (0.005), Jake (0.005), Dorn's (0.004), that (0.004), German (0.004), car (0.003), Nash (0.003), Olsen (0.003), Glidden (0.003), of (0.003), men (0.003), harvest (0.003), you (0.002)\n",
      "where (-0.000), it (-0.000), Then (-0.000), white (-0.000), but (-0.001), long (-0.001), which (-0.001), were (-0.001), s (-0.001), or (-0.001), up (-0.001), into (-0.001), down (-0.001), as (-0.001), on (-0.001), The (-0.001), was (-0.001), a (-0.003), and (-0.005), the (-0.007)\n",
      "\n",
      "18 Tales of Fishes\n",
      "fish (0.036), I (0.024), swordfish (0.020), Dan (0.015), bait (0.014), line (0.014), tuna (0.012), boat (0.011), is (0.010), and (0.009), bonefish (0.009), we (0.009), the (0.008), sea (0.008), my (0.008), C (0.008), Captain (0.008), hooked (0.008), R (0.007), sailfish (0.007)\n",
      "replied (-0.001), she (-0.001), here (-0.001), what (-0.001), your (-0.001), eyes (-0.001), now (-0.001), from (-0.001), with (-0.001), if (-0.001), man (-0.001), into (-0.001), her (-0.001), said (-0.001), had (-0.002), an (-0.002), to (-0.002), you (-0.003), he (-0.005), his (-0.006)\n",
      "\n",
      "19 The Man of the Forest\n",
      "Helen (0.032), Bo (0.027), Dale (0.026), Roy (0.012), Beasley (0.008), Anson (0.008), Riggs (0.007), an (0.006), her (0.006), Las (0.006), Vegas (0.005), Wilson (0.005), she (0.005), you (0.005), An (0.005), Carmichael (0.005), thet (0.004), Milt (0.004), Nell (0.004), Al (0.004)\n",
      "have (-0.001), into (-0.001), we (-0.001), could (-0.001), not (-0.001), for (-0.001), were (-0.001), to (-0.001), in (-0.001), him (-0.001), The (-0.002), He (-0.002), had (-0.002), he (-0.002), I (-0.002), his (-0.002), a (-0.003), of (-0.004), and (-0.005), the (-0.012)\n",
      "\n",
      "20 The Redheaded Outfielder\n",
      "ball (0.034), Rube (0.025), game (0.017), the (0.015), hit (0.014), players (0.011), team (0.011), Nan (0.010), bleachers (0.009), plate (0.009), baseball (0.008), field (0.008), Spears (0.008), base (0.008), bat (0.007), Daddy (0.007), play (0.007), pitcher (0.006), a (0.006), Wayne (0.006)\n",
      "had (-0.001), have (-0.001), But (-0.001), which (-0.001), is (-0.001), been (-0.001), me (-0.001), said (-0.001), there (-0.001), he (-0.001), this (-0.001), or (-0.001), She (-0.001), from (-0.001), be (-0.001), an (-0.002), she (-0.003), you (-0.003), her (-0.004), of (-0.007)\n",
      "\n",
      "21 The Mysterious Rider\n",
      "Wade (0.041), Belllounds (0.025), Columbine (0.022), Jack (0.019), you (0.013), Moore (0.013), Collie (0.010), an (0.007), Wils (0.007), Wilson (0.005), Buster (0.005), I'm (0.005), I (0.005), Lem (0.005), Slides (0.005), me (0.005), Wade's (0.004), Ben (0.004), An (0.004), I'll (0.004)\n",
      "He (-0.001), men (-0.001), from (-0.001), back (-0.001), She (-0.001), by (-0.001), could (-0.001), down (-0.001), we (-0.001), they (-0.001), into (-0.001), were (-0.001), The (-0.002), in (-0.002), had (-0.002), was (-0.002), a (-0.004), of (-0.006), and (-0.009), the (-0.015)\n",
      "\n"
     ]
    },
    {
     "name": "stdout",
     "output_type": "stream",
     "text": [
      "22 To the Last Man\n",
      "Jean (0.044), Ellen (0.029), Isbel (0.022), y'u (0.017), Jorth (0.015), Colter (0.009), her (0.009), an (0.009), heah (0.006), she (0.005), Blaisdell (0.005), An (0.005), Jean's (0.004), shore (0.004), Daggs (0.004), Greaves (0.004), Wal (0.004), Shore (0.004), father (0.004), Bruce (0.003)\n",
      "on (-0.001), at (-0.001), were (-0.001), would (-0.001), here (-0.001), You (-0.001), but (-0.001), have (-0.001), up (-0.001), me (-0.001), for (-0.001), is (-0.001), was (-0.001), He (-0.001), The (-0.002), a (-0.002), I (-0.003), you (-0.004), the (-0.005), and (-0.007)\n",
      "\n",
      "23 Tales of Lonely Trails\n",
      "I (0.021), we (0.015), and (0.014), We (0.009), hounds (0.008), my (0.008), Jones (0.007), bear (0.006), lion (0.006), C (0.006), R (0.006), the (0.006), Emett (0.006), our (0.006), Copple (0.005), us (0.005), down (0.005), a (0.005), Haught (0.004), Nielsen (0.004)\n",
      "now (-0.001), not (-0.001), man (-0.001), if (-0.001), as (-0.001), is (-0.001), been (-0.001), that (-0.001), it (-0.001), But (-0.001), an (-0.001), she (-0.001), him (-0.001), be (-0.002), He (-0.002), in (-0.002), her (-0.003), you (-0.004), his (-0.005), he (-0.005)\n",
      "\n",
      "24 The Day of the Beast\n",
      "Lane (0.056), Mel (0.013), Daren (0.013), Blair (0.009), Bessy (0.009), Swann (0.007), Lorna (0.007), her (0.007), you (0.006), Lane's (0.005), Iden (0.005), Margaret (0.005), Bell (0.004), Maynard (0.004), mother (0.004), Pepper (0.004), Middleville (0.004), Rose (0.004), she (0.004), Doctor (0.004)\n",
      "by (-0.001), but (-0.001), a (-0.001), we (-0.001), man (-0.001), my (-0.001), then (-0.001), down (-0.001), The (-0.001), as (-0.001), they (-0.001), up (-0.001), that (-0.001), were (-0.001), I (-0.001), was (-0.001), of (-0.002), an (-0.002), and (-0.004), the (-0.010)\n",
      "\n",
      "25 Tappan's Burro\n",
      "Tappan (0.039), the (0.020), s (0.018), Siena (0.017), Manuel (0.015), Jenet (0.015), of (0.011), Yaqui (0.011), his (0.009), SeÃ (0.009), Montes (0.007), Augustine (0.006), Muella (0.006), Blade (0.006), Baroma (0.005), Perez (0.005), jungle (0.004), burro (0.004), henequen (0.004), Yaquis (0.004)\n",
      "be (-0.001), is (-0.001), at (-0.001), all (-0.001), have (-0.001), up (-0.001), been (-0.001), with (-0.001), she (-0.001), said (-0.001), it (-0.001), her (-0.001), my (-0.001), as (-0.001), that (-0.001), an (-0.002), me (-0.002), a (-0.002), you (-0.003), I (-0.007)\n",
      "\n",
      "26 The Wanderer of the Wasteland\n",
      "Adam (0.056), s (0.016), desert (0.013), of (0.011), Virey (0.008), Genie (0.008), Dismukes (0.007), t (0.005), ll (0.005), Wansfell (0.004), he (0.004), ve (0.004), the (0.004), Guerd (0.003), Margarita (0.003), Death (0.003), man (0.003), life (0.002), m (0.002), its (0.002)\n",
      "went (-0.001), got (-0.001), to (-0.001), one (-0.001), into (-0.001), for (-0.001), my (-0.001), we (-0.001), She (-0.001), not (-0.001), were (-0.001), up (-0.001), me (-0.001), I (-0.001), said (-0.001), on (-0.001), out (-0.001), was (-0.002), her (-0.002), she (-0.002)\n",
      "\n",
      "27 The Call of the Canyon\n",
      "Carley (0.066), Glenn (0.028), her (0.027), she (0.026), Flo (0.012), She (0.008), of (0.007), Carley's (0.006), to (0.006), Hutter (0.005), West (0.004), herself (0.003), you (0.003), Glenn's (0.003), and (0.003), Kilbourne (0.003), Ruff (0.003), it (0.003), But (0.002), Eleanor (0.002)\n",
      "we (-0.001), them (-0.001), up (-0.001), me (-0.001), as (-0.001), my (-0.001), one (-0.001), but (-0.001), on (-0.001), The (-0.001), an (-0.002), in (-0.002), was (-0.002), a (-0.003), He (-0.003), I (-0.003), him (-0.003), the (-0.005), his (-0.006), he (-0.007)\n",
      "\n"
     ]
    }
   ],
   "source": [
    "for novel_id, novel in enumerate(novels):\n",
    "    # `nonzero` returns a tuple with one element per dimension of the input array\n",
    "    nzs = numpy.nonzero(novel[\"Vector\"])[0]\n",
    "    kl_terms = novel[\"Vector\"][nzs] * numpy.log2(novel[\"Vector\"][nzs] / all_vector[nzs])\n",
    "    \n",
    "    vocabulary_subset = [vocabulary[i] for i in nzs]\n",
    "\n",
    "    sorted_words = sorted(zip(kl_terms, vocabulary_subset), reverse=True)\n",
    "    print(novel_id, novel[\"Title\"])\n",
    "    print(\", \".join([\"{} ({:.3f})\".format(w, s) for s, w in sorted_words[:20]]))\n",
    "    print(\", \".join([\"{} ({:.3f})\".format(w, s) for s, w in sorted_words[-20:]]))\n",
    "    print()\n"
   ]
  },
  {
   "cell_type": "markdown",
   "metadata": {},
   "source": [
    "3.\n",
    "\n",
    "The next cell shows five similarity functions that take two numpy arrays as input. Try at least 5 examples of input values using small arrays, and apply each function to those pairs.\n",
    "\n",
    "Describe how the functions are different and what a typical range of values is. Why are the last two functions different? (Why am I subtracting from 1?)\n",
    "\n",
    "[Answer below]"
   ]
  },
  {
   "cell_type": "code",
   "execution_count": 103,
   "metadata": {
    "collapsed": true
   },
   "outputs": [],
   "source": [
    "def jaccard(a, b):\n",
    "    set_a = set(numpy.nonzero(a)[0].flatten())\n",
    "    set_b = set(numpy.nonzero(b)[0].flatten())\n",
    "    \n",
    "    return len(set_a & set_b) / len(set_a | set_b)\n",
    "\n",
    "def cosine(a, b):\n",
    "    norm_a = numpy.linalg.norm(a)\n",
    "    norm_b = numpy.linalg.norm(b)\n",
    "    \n",
    "    return a.dot(b) / (norm_a * norm_b)\n",
    "\n",
    "def absolute(a, b):\n",
    "    return 1 - 0.5 * numpy.sum(numpy.abs(a - b))\n",
    "\n",
    "def js(a, b):\n",
    "    c = 0.5 * (a + b)\n",
    "    nz = numpy.nonzero(a)\n",
    "    kl_a = numpy.sum( a[nz] * numpy.log2(a[nz]/c[nz]) )\n",
    "    \n",
    "    nz = numpy.nonzero(b)\n",
    "    kl_b = numpy.sum( b[nz] * numpy.log2(b[nz]/c[nz]) )\n",
    "    \n",
    "    return 1 - 0.5 * (kl_a + kl_b)"
   ]
  },
  {
   "cell_type": "code",
   "execution_count": null,
   "metadata": {
    "collapsed": true
   },
   "outputs": [],
   "source": [
    "# Use print statements to show examples here"
   ]
  },
  {
   "cell_type": "markdown",
   "metadata": {},
   "source": [
    "4.\n",
    "\n",
    "The following blocks allow you to compare one novel to all the others, and to compare all novels to each other.\n",
    "\n",
    "What does this format tell you about these novels?\n",
    "\n",
    "Are there outliers, and why are they different?\n",
    "\n",
    "Are some novels more similar to e"
   ]
  },
  {
   "cell_type": "code",
   "execution_count": 116,
   "metadata": {
    "collapsed": true
   },
   "outputs": [],
   "source": [
    "def compare_novels(query_novel, similarity_function):\n",
    "    comparisons = [(\"{:.3f}\".format(similarity_function(query_novel[\"Vector\"], novel[\"Vector\"])), \n",
    "                    novel[\"Title\"], novel[\"Year\"])\n",
    "                   for novel in novels]\n",
    "    return sorted(comparisons, reverse=True)"
   ]
  },
  {
   "cell_type": "code",
   "execution_count": 118,
   "metadata": {},
   "outputs": [
    {
     "data": {
      "text/plain": [
       "[('1.000', 'The Man of the Forest', 1920),\n",
       " ('0.769', 'The Light of the Western Stars', 1914),\n",
       " ('0.764', 'To the Last Man', 1921),\n",
       " ('0.762', 'The Mysterious Rider', 1921),\n",
       " ('0.753', 'Wildfire', 1917),\n",
       " ('0.752', 'The Desert of Wheat', 1919),\n",
       " ('0.750', 'The Border Legion', 1916),\n",
       " ('0.750', 'Riders of the Purple Sage', 1912),\n",
       " ('0.748', 'The Lone Star Ranger', 1915),\n",
       " ('0.739', 'Desert Gold', 1913),\n",
       " ('0.738', 'The U. P. Trail', 1918),\n",
       " ('0.731', 'The Day of the Beast', 1922),\n",
       " ('0.728', 'The Rainbow Trail', 1915),\n",
       " ('0.723', 'The Last Trail', 1909),\n",
       " ('0.721', 'The Rustlers of Pecos County', 1914),\n",
       " ('0.721', 'The Call of the Canyon', 1924),\n",
       " ('0.716', 'The Wanderer of the Wasteland', 1923),\n",
       " ('0.698', 'The Young Forester', 1910),\n",
       " ('0.698', 'Betty Zane', 1903),\n",
       " ('0.694', 'The Heritage of the Desert', 1910),\n",
       " ('0.692', 'The Spirit of the Border', 1906),\n",
       " ('0.683', 'Tales of Lonely Trails', 1922),\n",
       " ('0.672', 'The Last of the Plainsmen', 1908),\n",
       " ('0.670', \"Tappan's Burro\", 1923),\n",
       " ('0.652', 'The Young Pitcher', 1911),\n",
       " ('0.644', 'Ken Ward in the Jungle', 1912),\n",
       " ('0.638', 'The Redheaded Outfielder', 1920),\n",
       " ('0.614', 'Tales of Fishes', 1919)]"
      ]
     },
     "execution_count": 118,
     "metadata": {},
     "output_type": "execute_result"
    }
   ],
   "source": [
    "compare_novels(novels[19], absolute)"
   ]
  },
  {
   "cell_type": "code",
   "execution_count": 119,
   "metadata": {},
   "outputs": [
    {
     "data": {
      "image/png": "[encoded data removed]",
      "text/plain": [
       "<Figure size 432x288 with 1 Axes>"
      ]
     },
     "metadata": {},
     "output_type": "display_data"
    }
   ],
   "source": [
    "n_novels = len(novels)\n",
    "\n",
    "novel_sims = numpy.zeros( (n_novels, n_novels) )\n",
    "\n",
    "similarity_function = jaccard\n",
    "\n",
    "for i, novel_a in enumerate(novels):\n",
    "    for j, novel_b in enumerate(novels):\n",
    "        novel_sims[i,j] = similarity_function(novel_a[\"Vector\"], novel_b[\"Vector\"])\n",
    "\n",
    "pyplot.imshow(novel_sims)\n",
    "pyplot.show()"
   ]
  }
 ],
 "metadata": {
  "kernelspec": {
   "display_name": "Python 3",
   "language": "python",
   "name": "python3"
  },
  "language_info": {
   "codemirror_mode": {
    "name": "ipython",
    "version": 3
   },
   "file_extension": ".py",
   "mimetype": "text/x-python",
   "name": "python",
   "nbconvert_exporter": "python",
   "pygments_lexer": "ipython3",
   "version": "3.6.9"
  }
 },
 "nbformat": 4,
 "nbformat_minor": 2
}
