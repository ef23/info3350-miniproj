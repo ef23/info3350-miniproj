{
 "cells": [
  {
   "cell_type": "markdown",
   "metadata": {},
   "source": [
    "# Week 1, part 1: Characters\n",
    "\n",
    "This is part one of this week's assignment. It looks at characters.\n",
    "Part two will involve tokenization of files into words.\n",
    "\n",
    "To turn in this assignment, you will create a zip file containing the `week1` directory and upload that zip file to CMS.\n",
    "Some answers will involve adding code, and we will be able to see the output when we run the script. For others, you will need to add your response in the spaces provided.\n",
    "If you are in doubt, *make the graders' lives easy*."
   ]
  },
  {
   "cell_type": "code",
   "execution_count": 19,
   "metadata": {},
   "outputs": [
    {
     "name": "stdout",
     "output_type": "stream",
     "text": [
      "μῆνιν\n"
     ]
    }
   ],
   "source": [
    "### Compatibility check: Does this word look like greek? Does it print to the screen correctly?\n",
    "greek = \"μῆνιν\"\n",
    "print(greek)"
   ]
  },
  {
   "cell_type": "markdown",
   "metadata": {
    "collapsed": true
   },
   "source": [
    "## 1. From characters to codepoints with `ord`.\n",
    "\n",
    "This function takes a character and returns a numeric codepoint.\n",
    "Python 3 uses Unicode natively. In previous versions of Python the `ord()` function may have returned different values for some strings."
   ]
  },
  {
   "cell_type": "code",
   "execution_count": 1,
   "metadata": {},
   "outputs": [
    {
     "data": {
      "text/plain": [
       "65"
      ]
     },
     "execution_count": 1,
     "metadata": {},
     "output_type": "execute_result"
    }
   ],
   "source": [
    "ord(\"A\")"
   ]
  },
  {
   "cell_type": "code",
   "execution_count": 2,
   "metadata": {},
   "outputs": [
    {
     "data": {
      "text/plain": [
       "66"
      ]
     },
     "execution_count": 2,
     "metadata": {},
     "output_type": "execute_result"
    }
   ],
   "source": [
    "ord(\"B\")"
   ]
  },
  {
   "cell_type": "code",
   "execution_count": null,
   "metadata": {
    "collapsed": true
   },
   "outputs": [],
   "source": [
    "print(\"The codepoint is {}\".format(ord(\"A\")))\n",
    "\n",
    "### Modify the following two lines to print the codepoint in hexadecimal and zero-padded 8-bit binary.\n",
    "### Useful: https://docs.python.org/3.6/library/string.html#format-specification-mini-language\n",
    "print(\"The codepoint in hex is {}\".format(ord(\"A\")))\n",
    "print(\"The codepoint in binary is {}\".format(ord(\"A\")))"
   ]
  },
  {
   "cell_type": "markdown",
   "metadata": {},
   "source": [
    "## 2. From codepoints to characters with chr().\n",
    "\n",
    "The function `chr()` does the opposite of `ord()`: it takes a number and returns the character string for that codepoint. Apply this function  once each for the codepoints for 97, 0x03b1, 0x2658, and 0x12010. Another useful function is `unicodedata.name()`, which takes a character as a string and returns the Unicode name of each character. Apply this function to each of those four characters.\n",
    "\n",
    "We can also get a character from a name. Use `unicodedata.lookup()` to print the character for \"HIRAGANA LETTER NO\", \"ARABIC LETTER DAD\", and \"SMILING CAT FACE WITH HEART-SHAPED EYES\"."
   ]
  },
  {
   "cell_type": "code",
   "execution_count": null,
   "metadata": {
    "collapsed": true
   },
   "outputs": [],
   "source": [
    "## [write code here]"
   ]
  },
  {
   "cell_type": "markdown",
   "metadata": {},
   "source": [
    "## 3. Codepoints to bytes with `encode()`\n",
    "\n",
    "To write text to a file on disk we need to specify an encoding."
   ]
  },
  {
   "cell_type": "code",
   "execution_count": null,
   "metadata": {
    "collapsed": true
   },
   "outputs": [],
   "source": [
    "### 3. From codepoints to bytes with encode()\n",
    "### The following example string contains four codepoints.\n",
    "english = \"word\"\n",
    "### The encode() function maps the abstract codepoints to bytes, and returns\n",
    "###  a byte array, which is not a string but may look like one.\n",
    "print(english.encode(\"utf-8\"))\n",
    "### a. Change the encoding to \"ascii\", \"utf-16\", and \"iso-8859-1\" (Latin 1). Describe what happens in the comment below.\n",
    "### [answer here]\n",
    "\n",
    "### b. Try a more interesting example. What happens when you convert an Icelandic\n",
    "###  string to ascii, utf-8, utf-16, and iso-8859-1? You may need to look carefully at the byte array.\n",
    "icelandic = \"orð\"\n",
    "### [answer here]\n",
    "\n",
    "### c. Now use the `greek` variable from above, and try the same encodings.\n",
    "### [answer here]"
   ]
  },
  {
   "cell_type": "markdown",
   "metadata": {},
   "source": [
    "## 4. Bytes to codepoints with `decode()`\n",
    "\n",
    "To invert the transformation from bytes to codepoints we need to specify an\n",
    "encoding scheme. Many problems occur when we get this wrong."
   ]
  },
  {
   "cell_type": "code",
   "execution_count": null,
   "metadata": {
    "collapsed": true
   },
   "outputs": [],
   "source": [
    "### 4. From bytes to codepoints with decode()\n",
    "### To invert the transformation from bytes to codepoints we need to specify an\n",
    "###   encoding scheme. What happens if we get it wrong?\n",
    "\n",
    "### a. Write code to encode the `greek` word in UTF-8, but then decode it as Latin 1, and print the result. What happens?\n",
    "### [code here]\n",
    "\n",
    "### [description here]\n",
    "\n",
    "### b. Do this transformation once again (encode as UTF-8, decode as Latin 1). What does it look like?\n",
    "### [code here]\n",
    "\n",
    "### [description here]"
   ]
  },
  {
   "cell_type": "markdown",
   "metadata": {},
   "source": [
    "## 5. Whitespace and punctuation\n",
    "\n",
    "This string contains four whitespace characters and two punctuation characters. Write a for loop that prints the codepoint for each character. What are the six characters, and what are their codepoints?"
   ]
  },
  {
   "cell_type": "code",
   "execution_count": null,
   "metadata": {
    "collapsed": true
   },
   "outputs": [],
   "source": [
    "whitespace_string = \"This string has a tab\\tand, as well, more\\r\\nthan one line.\"\n",
    "### Write a for-loop that prints the codepoint for each character.\n",
    "### [code here]"
   ]
  },
  {
   "cell_type": "markdown",
   "metadata": {},
   "source": [
    "WRITTEN ANSWER HERE"
   ]
  },
  {
   "cell_type": "markdown",
   "metadata": {},
   "source": [
    "## 6. f'd up strings\n",
    "\n",
    "Something is strange about this string. Use the tools you've seen so far to inspect it. Which characters are unusual, what are they, and why might we be worried about this?"
   ]
  },
  {
   "cell_type": "code",
   "execution_count": null,
   "metadata": {
    "collapsed": true
   },
   "outputs": [],
   "source": [
    "weird_string = \"Eﬃciency is the ﬁnal reﬂection\"\n",
    "### [description here, with any helpful code]"
   ]
  },
  {
   "cell_type": "markdown",
   "metadata": {},
   "source": [
    "WRITTEN ANSWER HERE"
   ]
  },
  {
   "cell_type": "markdown",
   "metadata": {},
   "source": [
    "## 7. Weird Os\n",
    "\n",
    "The last time I ran 3350 I got an email that looked a bit like this string. It's clearly in a [Western Latin character set](https://en.wikipedia.org/wiki/Western_Latin_character_sets_(computing)), but which one?"
   ]
  },
  {
   "cell_type": "code",
   "execution_count": null,
   "metadata": {
    "collapsed": true
   },
   "outputs": [],
   "source": [
    "text_with_Os = \"He said ÒDonÕt worry!Ó, but I didnÕt believe him.\"\n",
    "## In the comment below, describe what happened. What characters are not showing correctly, and why are they displaying as they are? Hint: figure out what OS the student was using.\n",
    "### \n",
    "### [answer here]"
   ]
  },
  {
   "cell_type": "markdown",
   "metadata": {},
   "source": [
    "## 8. Mystery encoding\n",
    "\n",
    "Sometimes you get a data file that is in an encoding you don't recognize.\n",
    "This sequence of bytes is in an ISO-8859 encoding, but which one?\n"
   ]
  },
  {
   "cell_type": "code",
   "execution_count": 18,
   "metadata": {},
   "outputs": [
    {
     "name": "stdout",
     "output_type": "stream",
     "text": [
      "ERROR: unknown encoding: ???\n"
     ]
    }
   ],
   "source": [
    "mystery_bytes = b'\\xba\\xde\\xd4\\xd8\\xe0\\xd0\\xdd\\xd5\\xe2\\xde \\xdd\\xd0 \\xe1\\xd8\\xdc\\xd2\\xde\\xdb\\xd8 \\xd5 \\xe1\\xea\\xde\\xe2\\xd2\\xd5\\xe2\\xe1\\xe2\\xd2\\xd8\\xd5\\xe2\\xde \\xdd\\xd0 \\xd4\\xd0\\xd4\\xd5\\xdd\\xd0 \\xd3\\xe0\\xe3\\xdf\\xd0 \\xde\\xe2 \\xe1\\xd8\\xdc\\xd2\\xde\\xdb\\xd8 \\xda\\xea\\xdc \\xd4\\xe0\\xe3\\xd3\\xd0 \\xd3\\xe0\\xe3\\xdf\\xd0. \\xbd\\xd0\\xdf\\xe0\\xd8\\xdc\\xd5\\xe0, \\xe6\\xd8\\xe4\\xe0\\xd8\\xe2\\xd5 \\xd8\\xdb\\xd8 \\xd5\\xdb\\xd5\\xda\\xe2\\xe0\\xd8\\xe7\\xd5\\xe1\\xda\\xd8\\xe2\\xd5 \\xe1\\xd8\\xd3\\xdd\\xd0\\xdb\\xd8, \\xde\\xd1\\xd8\\xda\\xdd\\xde\\xd2\\xd5\\xdd\\xde \\xe1\\xd0 \\xdf\\xe0\\xde\\xd5\\xda\\xe2\\xd8\\xe0\\xd0\\xdd\\xd8 \\xe2\\xd0\\xda\\xd0 \\xe7\\xd5 \\xd4\\xd0 \\xdf\\xde\\xd7\\xd2\\xde\\xdb\\xef\\xd2\\xd0\\xe2 \\xe1\\xea\\xe5\\xe0\\xd0\\xdd\\xd5\\xdd\\xd8\\xd5\\xe2\\xde \\xdd\\xd0 \\xe2\\xd5\\xda\\xe1\\xe2 \\xd2 \\xda\\xde\\xdc\\xdf\\xee\\xe2\\xea\\xe0 \\xd8\\xdb\\xd8 \\xd4\\xd0 \\xdf\\xde\\xd7\\xd2\\xde\\xdb\\xef\\xd2\\xd0\\xe2 \\xd8\\xd7\\xdf\\xe0\\xd0\\xe9\\xd0\\xdd\\xd5\\xe2\\xde \\xdd\\xd0 \\xe2\\xd5\\xda\\xe1\\xe2 \\xe1 \\xdf\\xde\\xdc\\xde\\xe9\\xe2\\xd0 \\xdd\\xd0 \\xe0\\xd0\\xd7\\xdb\\xd8\\xe7\\xdd\\xd8 \\xdc\\xd5\\xd4\\xd8\\xd8 (\\xe1\\xe0\\xd5\\xd4\\xd8). \\xb5\\xd4\\xd8\\xdd \\xde\\xe2 \\xdd\\xd0\\xd9-\\xe1\\xd5\\xdc\\xdf\\xdb\\xd8\\xe2\\xd5 \\xd8 \\xe1\\xea\\xe9\\xd5\\xd2\\xe0\\xd5\\xdc\\xd5\\xdd\\xdd\\xde \\xd8\\xd7\\xd2\\xd5\\xe1\\xe2\\xdd\\xd8 \\xdf\\xe0\\xd8\\xdc\\xd5\\xe0\\xd8 \\xd7\\xd0 \\xda\\xde\\xd4\\xd8\\xe0\\xd0\\xdd\\xd5 \\xdd\\xd0 \\xe1\\xd8\\xdc\\xd2\\xde\\xdb\\xd8\\xe2\\xd5 \\xd5 \\xbc\\xde\\xe0\\xd7\\xde\\xd2\\xd0\\xe2\\xd0 \\xd0\\xd7\\xd1\\xe3\\xda\\xd0, \\xda\\xde\\xef\\xe2\\xde \\xda\\xde\\xd4\\xd8\\xe0\\xd0 \\xd1\\xe3\\xda\\xd2\\xd8 \\xde\\xe2 \\xdb\\xd0\\xe2\\xd8\\xdd\\xe1\\xda\\xd0\\xe2\\xd0 \\xd0\\xd7\\xd1\\xe3\\xda\\xd0 \\xd2 \\xdf\\xde\\xe1\\xdb\\xd5\\xd4\\xde\\xd2\\xd0\\xe2\\xd5\\xdb\\xdd\\xde\\xe1\\xe2 \\xde\\xe2 \\xdb\\xd8\\xdd\\xd8\\xd8 \\xd8 \\xe2\\xde\\xe7\\xda\\xd8, \\xd8\\xdb\\xd8 \\xda\\xea\\xe1\\xd8 \\xd8 \\xd4\\xea\\xdb\\xd3\\xd8 \\xdd\\xd0\\xe2\\xd8\\xe1\\xda\\xd0\\xdd\\xd8\\xef \\xdd\\xd0 \\xd1\\xe3\\xe2\\xde\\xdd \\xdd\\xd0 \\xe2\\xd5\\xdb\\xd5\\xd3\\xe0\\xd0\\xe4\\xd0, \\xe1 \\xe6\\xd5\\xdb \\xd4\\xd0 \\xe1\\xd5 \\xd8\\xd7\\xdf\\xe0\\xd0\\xe2\\xef\\xe2 \\xe7\\xe0\\xd5\\xd7 \\xe3\\xe1\\xe2\\xe0\\xde\\xd9\\xe1\\xe2\\xd2\\xde\\xe2\\xde \\xe2\\xd5\\xdb\\xd5\\xd3\\xe0\\xd0\\xe4 \\xd4\\xde \\xd4\\xe0\\xe3\\xd3\\xd0\\xe2\\xd0 (\\xdf\\xe0\\xd8\\xd5\\xdc\\xd0\\xe9\\xd0\\xe2\\xd0) \\xe1\\xe2\\xe0\\xd0\\xdd\\xd0. \\xb4\\xe0\\xe3\\xd3 \\xdf\\xe0\\xd8\\xdc\\xd5\\xe0 \\xd5 ASCII \\xda\\xde\\xd4\\xea\\xe2, \\xda\\xde\\xd9\\xe2\\xde \\xda\\xde\\xd4\\xd8\\xe0\\xd0 \\xd1\\xe3\\xda\\xd2\\xd8, \\xe6\\xd8\\xe4\\xe0\\xd8 \\xd8 \\xd4\\xe0\\xe3\\xd3\\xd8 \\xe1\\xd8\\xdc\\xd2\\xde\\xdb\\xd8 \\xd2 \\xd4\\xd2\\xde\\xd8\\xe7\\xdd\\xd8 \\xe7\\xd8\\xe1\\xdb\\xd0 \\xe1\\xea\\xe1 7-\\xd1\\xd8\\xe2\\xde\\xd2\\xd0 \\xd4\\xea\\xdb\\xd6\\xd8\\xdd\\xd0.'\n",
    "\n",
    "try:\n",
    "    print(mystery_bytes.decode(\"???\"))\n",
    "except Exception as e:\n",
    "    print(\"ERROR: \" + str(e))"
   ]
  },
  {
   "cell_type": "markdown",
   "metadata": {},
   "source": [
    "What language is this text in? Describe how you figured out the encoding and the language.\n",
    "\n",
    "ANSWER HERE:"
   ]
  }
 ],
 "metadata": {
  "kernelspec": {
   "display_name": "Python 3",
   "language": "python",
   "name": "python3"
  },
  "language_info": {
   "codemirror_mode": {
    "name": "ipython",
    "version": 3
   },
   "file_extension": ".py",
   "mimetype": "text/x-python",
   "name": "python",
   "nbconvert_exporter": "python",
   "pygments_lexer": "ipython3",
   "version": "3.6.8"
  }
 },
 "nbformat": 4,
 "nbformat_minor": 2
}
