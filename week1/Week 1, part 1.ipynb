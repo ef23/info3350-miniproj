{
 "cells": [
  {
   "cell_type": "markdown",
   "metadata": {},
   "source": [
    "# Week 1, part 1: Characters\n",
    "\n",
    "This is part one of this week's assignment. It looks at characters.\n",
    "Part two will involve tokenization of files into words.\n",
    "To turn in this assignment, you will create a zip file containing the `week1` directory.\n",
    "Some answers will involve adding code, and we will be able to see the output when we run the script. For others, you will need to add your response in comments."
   ]
  },
  {
   "cell_type": "code",
   "execution_count": null,
   "metadata": {
    "collapsed": true
   },
   "outputs": [],
   "source": [
    "### Compatibility check: Does this word look like greek? Does it print to the screen correctly?\n",
    "greek = \"μῆνιν\"\n",
    "print(greek)"
   ]
  },
  {
   "cell_type": "code",
   "execution_count": null,
   "metadata": {
    "collapsed": true
   },
   "outputs": [],
   "source": [
    "### 1. From characters to codepoints with `ord`.\n",
    "###  This function takes a character and returns a numeric codepoint.\n",
    "###  Python 3 uses Unicode natively. "
   ]
  },
  {
   "cell_type": "code",
   "execution_count": 1,
   "metadata": {},
   "outputs": [
    {
     "data": {
      "text/plain": [
       "65"
      ]
     },
     "execution_count": 1,
     "metadata": {},
     "output_type": "execute_result"
    }
   ],
   "source": [
    "ord(\"A\")"
   ]
  },
  {
   "cell_type": "code",
   "execution_count": 2,
   "metadata": {},
   "outputs": [
    {
     "data": {
      "text/plain": [
       "66"
      ]
     },
     "execution_count": 2,
     "metadata": {},
     "output_type": "execute_result"
    }
   ],
   "source": [
    "ord(\"B\")"
   ]
  },
  {
   "cell_type": "code",
   "execution_count": null,
   "metadata": {
    "collapsed": true
   },
   "outputs": [],
   "source": [
    "print(\"The codepoint is {}\".format(ord(\"A\")))\n",
    "\n",
    "### Modify the following two lines to print the codepoint in hexadecimal and zero-padded 8-bit binary.\n",
    "### Useful: https://docs.python.org/3.6/library/string.html#format-specification-mini-language\n",
    "print(\"The codepoint in hex is {}\".format(ord(\"A\")))\n",
    "print(\"The codepoint in binary is {}\".format(ord(\"A\")))"
   ]
  },
  {
   "cell_type": "code",
   "execution_count": null,
   "metadata": {
    "collapsed": true
   },
   "outputs": [],
   "source": [
    "### 2. From codepoints to characters with chr().\n",
    "print(\"The character is {}\".format(chr(97)))\n",
    "### copy the previous line to find the character for codepoint 210."
   ]
  },
  {
   "cell_type": "code",
   "execution_count": null,
   "metadata": {
    "collapsed": true
   },
   "outputs": [],
   "source": [
    "### 3. From codepoints to bytes with encode()\n",
    "### The following example string contains four codepoints.\n",
    "english = \"word\"\n",
    "### The encode() function maps the abstract codepoints to bytes, and returns\n",
    "###  a byte array, which is not a string but may look like one.\n",
    "print(english.encode(\"utf-8\"))\n",
    "### a. Change the encoding to \"ascii\", \"utf-16\", and \"iso-8859-1\" (Latin 1). Describe what happens in the comment below.\n",
    "### [answer here]\n",
    "\n",
    "### b. Try a more interesting example. What happens when you convert an Icelandic\n",
    "###  string to ascii, utf-8, utf-16, and iso-8859-1? You may need to look carefully at the byte array.\n",
    "icelandic = \"orð\"\n",
    "### [answer here]\n",
    "\n",
    "### c. Now use the `greek` variable from above, and try the same encodings.\n",
    "### [answer here]"
   ]
  },
  {
   "cell_type": "code",
   "execution_count": null,
   "metadata": {
    "collapsed": true
   },
   "outputs": [],
   "source": [
    "### 4. From bytes to codepoints with decode()\n",
    "### To invert the transformation from bytes to codepoints we need to specify an\n",
    "###   encoding scheme. What happens if we get it wrong?\n",
    "\n",
    "### a. Write code to encode the `greek` word in UTF-8, but then decode it as Latin 1, and print the result. What happens?\n",
    "### [code here]\n",
    "\n",
    "### [description here]\n",
    "\n",
    "### b. Do this transformation once again (encode as UTF-8, decode as Latin 1). What does it look like?\n",
    "### [code here]\n",
    "\n",
    "### [description here]"
   ]
  },
  {
   "cell_type": "code",
   "execution_count": null,
   "metadata": {
    "collapsed": true
   },
   "outputs": [],
   "source": [
    "### 5. Whitespace and punctuation. Consider this string:\n",
    "\"This string has a tab\\tand, as well, more\\r\\nthan one line.\"\n",
    "### Write a for-loop that prints the codepoint for each character.\n",
    "### [code here]"
   ]
  },
  {
   "cell_type": "code",
   "execution_count": null,
   "metadata": {
    "collapsed": true
   },
   "outputs": [],
   "source": [
    "### 6. Something is strange about this string. Use the tools you've seen so far to inspect it. Is it what it appears?\n",
    "weird_string = \"Eﬃciency is the ﬁnal reﬂection\"\n",
    "### [description here, with any helpful code]"
   ]
  },
  {
   "cell_type": "code",
   "execution_count": null,
   "metadata": {
    "collapsed": true
   },
   "outputs": [],
   "source": [
    "### 7. Last year I received an email that looked like this when I opened it.\n",
    "text_with_Os = \"He said ÒDonÕt worry!Ó, but I didnÕt believe him.\"\n",
    "## In the comment below, describe what happened. What characters are not showing correctly, and why are they displaying as they are? Hint: figure out what OS the student was using.\n",
    "### \n",
    "### [answer here]"
   ]
  },
  {
   "cell_type": "code",
   "execution_count": null,
   "metadata": {
    "collapsed": true
   },
   "outputs": [],
   "source": [
    "### 8. The file \"mystery.txt\" is in a standard encoding, but which one?\n",
    "###  \n",
    "###  a. Fill in the correct encoding in code below (it's not UTF8).\n",
    "### UNCOMMENT THE FOLLOWING 3 LINES (it will cause a UnicodeDecodeError)\n",
    "#with open(\"mystery.txt\", encoding=\"utf-8\") as file:\n",
    "#    for line in file:\n",
    "#        print(line)\n",
    "print(\"The text is in LANGUAGE\")\n",
    "###  b. Figure out what language the text is in, and include it below. You may use any internet resource."
   ]
  }
 ],
 "metadata": {
  "kernelspec": {
   "display_name": "Python 3",
   "language": "python",
   "name": "python3"
  },
  "language_info": {
   "codemirror_mode": {
    "name": "ipython",
    "version": 3
   },
   "file_extension": ".py",
   "mimetype": "text/x-python",
   "name": "python",
   "nbconvert_exporter": "python",
   "pygments_lexer": "ipython3",
   "version": "3.6.8"
  }
 },
 "nbformat": 4,
 "nbformat_minor": 2
}
