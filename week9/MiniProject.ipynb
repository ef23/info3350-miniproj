{
 "cells": [
  {
   "cell_type": "markdown",
   "metadata": {},
   "source": [
    "# Mini-project: Horror / non-Horror collection\n",
    "\n",
    "We've put some effort into building our collection. Now it's time to learn something about it. You already have lots of excellent ideas for how to apply the tools we've learned about so far. It's also a good time of the semester to review what we have learned and practice applying it in less structured settings.\n",
    "\n",
    "You will work in groups of 2-4 to do a short project applying code from the previous weeks to this collection. You will turn in a completed project as a notebook with the following sections:\n",
    "\n",
    "1. Question(s). Describe what you wanted to learn. Suggest several possible answers or hypotheses, and describe in general terms what you might expect to see if each of these answers were true (save specific measurements for the next section). For example, many students want to know the difference between horror and non-horror, but there are many ways to operationalize this question. \n",
    "\n",
    "2. Methods. Describe how you will use computational methods presented so far in this class to answer your question. What do the computational tools do, and how does their output relate to your question? Describe how you process the collection into a form suitable for a model or algorithm.\n",
    "\n",
    "3. Code. Code should be correct (no errors) and focused (unneeded code from examples is removed). Use the notebook format effectively: code may be incorporated into multiple sections.\n",
    "\n",
    "4. Results. Use sorted lists, tables, and visual presentations to make your argument. Excellent projects will provide multiple views of results, and follow up on any apparent outliers or strange cases, including through careful reading of the original documents.\n",
    "\n",
    "5. Reflection. Describe your experience in this process. What was harder or easier than you expected? What compromises or negotiations did you have to accept to match the collection, the question, and the methods? What would you try next? \n",
    "\n",
    "6. Responsibility. Describe each team member's contribution. Credit any online sources (stack overflow, blog posts, documentation) that you found helpful.\n",
    "\n",
    "We will grade this work based on accuracy, thoroughness, creativity, reflectiveness, and quality of presentation. Scope: this is a *mini*-project, with a short deadline. We are expecting work that is consistent with that timeframe."
   ]
  }
 ],
 "metadata": {
  "kernelspec": {
   "display_name": "Python 3",
   "language": "python",
   "name": "python3"
  },
  "language_info": {
   "codemirror_mode": {
    "name": "ipython",
    "version": 3
   },
   "file_extension": ".py",
   "mimetype": "text/x-python",
   "name": "python",
   "nbconvert_exporter": "python",
   "pygments_lexer": "ipython3",
   "version": "3.6.9"
  }
 },
 "nbformat": 4,
 "nbformat_minor": 2
}
