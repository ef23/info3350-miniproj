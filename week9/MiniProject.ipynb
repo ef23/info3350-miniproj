{
 "cells": [
  {
   "cell_type": "markdown",
   "metadata": {},
   "source": [
    "# Mini-project: Horror / non-Horror collection\n",
    "\n",
    "We've put some effort into building our collection. Now it's time to learn something about it. You already have lots of excellent ideas for how to apply the tools we've learned about so far. It's also a good time of the semester to review what we have learned and practice applying it in less structured settings.\n",
    "\n",
    "You will work in groups of 2-4 to do a short project applying code from the previous weeks to this collection. You will turn in a completed project as a notebook with the following sections:\n",
    "\n",
    "1. Question(s). Describe what you wanted to learn. Suggest several possible answers or hypotheses, and describe in general terms what you might expect to see if each of these answers were true (save specific measurements for the next section). For example, many students want to know the difference between horror and non-horror, but there are many ways to operationalize this question. \n",
    "\n",
    "2. Methods. Describe how you will use computational methods presented so far in this class to answer your question. What do the computational tools do, and how does their output relate to your question? Describe how you process the collection into a form suitable for a model or algorithm.\n",
    "\n",
    "3. Code. Code should be correct (no errors) and focused (unneeded code from examples is removed). Use the notebook format effectively: code may be incorporated into multiple sections.\n",
    "\n",
    "4. Results. Use sorted lists, tables, and visual presentations to make your argument. Excellent projects will provide multiple views of results, and follow up on any apparent outliers or strange cases, including through careful reading of the original documents.\n",
    "\n",
    "5. Reflection. Describe your experience in this process. What was harder or easier than you expected? What compromises or negotiations did you have to accept to match the collection, the question, and the methods? What would you try next? \n",
    "\n",
    "6. Responsibility. Describe each team member's contribution. Credit any online sources (stack overflow, blog posts, documentation) that you found helpful.\n",
    "\n",
    "We will grade this work based on accuracy, thoroughness, creativity, reflectiveness, and quality of presentation. Scope: this is a *mini*-project, with a short deadline. We are expecting work that is consistent with that timeframe."
   ]
  },
  {
   "cell_type": "code",
   "execution_count": 71,
   "metadata": {},
   "outputs": [],
   "source": [
    "import csv, sys, os, re\n",
    "import numpy as np\n",
    "import spacy\n",
    "from sklearn.cluster import KMeans\n",
    "\n",
    "import collections\n",
    "from collections import Counter\n",
    "import matplotlib.pyplot as plt\n",
    "from scipy import fftpack"
   ]
  },
  {
   "cell_type": "code",
   "execution_count": 72,
   "metadata": {
    "scrolled": false
   },
   "outputs": [
    {
     "name": "stdout",
     "output_type": "stream",
     "text": [
      "Austen, Jane / Emma\n",
      "Austen, Jane / Persuasion\n",
      "Austen, Jane / Pride and Prejudice\n",
      "Austen, Jane / Sense and Sensibility\n",
      "Problem with baring_gould_the_book_of_werewolves_pg5324.txt: [Errno 2] No such file or directory: '../data/Gutenberg-2019-10-21/baring_gould_the_book_of_werewolves_pg5324.txt'\n",
      "Baum, Lyman Frank / Glinda of Oz\n",
      "Baum, Lyman Frank / The Wonderful Wizard of Oz\n",
      "Beckford, William / Vathek\n",
      "Problem with beckford_vathek_an_arabian_tale_pg42401.txt: 'utf-8' codec can't decode byte 0xd2 in position 1716: invalid continuation byte\n",
      "Bierce, Ambrose / An Occurrence at Owl Creek Bridge\n",
      "Bierce, Ambrose / Present at a Hanging and Other Ghost Stories\n",
      "Bierce, Ambrose / The Parenticide Club\n",
      "Bierce, Ambrose / The Damned Thing\n",
      "Birkhead, Edith / The Tale of Terror\n",
      "Problem with edith_the_tale_of_terror_pg14154.txt: 'utf-8' codec can't decode byte 0xe9 in position 6657: invalid continuation byte\n",
      "Blackwood, Algernon / The Damned\n",
      "Blackwood, Algernon / The Willows\n",
      "Blackwood, Algernon / Four Weird Tales\n",
      "Blackwood, Algernon / Day and Night Stories\n",
      "Blackwood, Algernon  / The Wendigo\n",
      "Blanchard, Amy Ella / A Sweet Little Maid\n",
      "Brontë, Charlotte / Jane Eyre: An Autobiography\n",
      "Brontë, Emily / Wuthering Heights\n",
      "Bulfinch, Thomas / Bulfinch's Mythology\n",
      "Butler, Samuel / The Odyssey\n",
      "Carroll, Lewis / Alice's Adventures in Wonderland\n",
      "Problem with chambers_the_king_in_yellow_pg8492.txt: [Errno 2] No such file or directory: '../data/Gutenberg-2019-10-21/chambers_the_king_in_yellow_pg8492.txt'\n",
      "Christie, Agatha / The Murder on the Links\n",
      "Christie, Agatha / The Secret Adversary\n",
      "Collins, Wilkie / The Moonstone\n",
      "Conrad, Joseph / Heart of Darkness\n",
      "de Balzac, Honoré / La Grande Breteche\n",
      "Dickens, Charles / A Christmas Carol\n",
      "Dickens, Charles / Great Expectations\n",
      "Dickens, Charles / A Tale of Two Cities\n",
      "Dickens, Charles / Oliver Twist\n",
      "Dickens, Charles / A Christmas Carol\n",
      "Doyle, Arthur Conan / A Study in Scarlet\n",
      "Doyle, Arthur Conan / Tales of Terror and Mystery\n",
      "Doyle, Arthur Conan / The Adventure Of Sherlock Holmes\n",
      "Doyle, Arthur Conan / The Hound of The Baskervilles\n",
      "Doyle, Arthur Conan / The Parasite\n",
      "Doyle, Arthur Conan / Round the Fire Stories\n",
      "Dumas, Alexandre / The Three Musketeers\n",
      "Dumas, Alexandre / The Man in the Iron Mask\n",
      "Dumas, Alexandre / The Count of Monte Cristo\n",
      "Dunsany, Lord / The Book of Wonder\n",
      "Falkner, John Meade / The Lost Stradivarius\n",
      "Problem with falkner_the_lost_stradivarius_pg14107.txt: 'utf-8' codec can't decode byte 0xbe in position 1411: invalid start byte\n",
      "Fang, Irving / The Used People Lot\n",
      "Farjeon, B. L. / The House of the White Shadows\n",
      "Fitzgerald, Francis Scott / The Beautiful and the Damned\n",
      "Fitzgerald, Francis Scott / This Side of Paradise\n",
      "Fletcher Joseph / The Markenmore Mystery\n",
      "Fletcher, J. S. / The Middle of Things\n",
      "Problem with : [Errno 21] Is a directory: '../data/Gutenberg-2019-10-21/'\n",
      "Gautier, Théophile / Clarimonde\n",
      "Gautier, Théophile / The Mummy's Foot\n",
      "Gilman, Charlotte Perkins  / The Yellow Wallpaper\n",
      "Glad, Victoria / Each Man Kills\n",
      "Problem with hawthone_the_scarlet_letter_pg25344.txt: [Errno 2] No such file or directory: '../data/Gutenberg-2019-10-21/hawthone_the_scarlet_letter_pg25344.txt'\n",
      "Hearn, Lafcadio / Kwaidan Stories and Studies of Strange Things\n",
      "Hearn, Lafcadio / Shadowings\n",
      "Problem with hearn_shadowings_pg34215.txt: 'utf-8' codec can't decode byte 0xd1 in position 291: invalid continuation byte\n",
      "Hewlett, Maurice / The Forest Lovers\n",
      "Hobbes, Thomas / Leviathan\n",
      "Problem with hodgson_the_night_land_pg10662.txt: [Errno 2] No such file or directory: '../data/Gutenberg-2019-10-21/hodgson_the_night_land_pg10662.txt'\n",
      "Hodgson, William / The House on the Borderland\n",
      "Hodgson, William / The Boats of the \"Glen Carrig\"\n",
      "Homer / The Illiad\n",
      "Hoover, Thomas / Life Blood\n",
      "Hornung, Ernest / Dead Men Tell No Tales\n",
      "Hugo, Victor / Notre Dame de Paris\n",
      "Hugo, Victor / Les Miserables\n",
      "Ibsen, Henrik / Gengangere\n",
      "Irving, Washington / The Legend of Sleepy Hollow\n",
      "Barrie, J.M. / Peter Pan\n",
      "Jacobs, W.W. / The Monkey's Paw\n",
      "Jacobs, W.W. / The Well\n",
      "James, Henry / The Turn of the Screw\n",
      "James, Montague Rhodes / Ghost Story of an Antiquary\n",
      "James, Montague Rhodes / A Thin Ghost and Others\n",
      "Joyce, James / Dubliners\n",
      "Problem with james_joyce_ulysses.txt: [Errno 2] No such file or directory: '../data/Gutenberg-2019-10-21/james_joyce_ulysses.txt'\n",
      "Kafka, Franz / Metamorphosis\n",
      "Problem with the_trial_7849.txt: [Errno 2] No such file or directory: '../data/Gutenberg-2019-10-21/the_trial_7849.txt'\n",
      "Kafka, Franz  / The Trial\n",
      "Problem with : [Errno 21] Is a directory: '../data/Gutenberg-2019-10-21/'\n",
      "LeBlanc, Maurice / The Crystal Stopper\n",
      "LeBlanc, Maurice / The Teeth of the Tiger\n",
      "London, Jack / The Call of the Wild\n",
      "Lovecraft, Howard Phillips / The Shunned House\n",
      "Problem with lovecraft_the_shunned_house_pg31469: [Errno 2] No such file or directory: '../data/Gutenberg-2019-10-21/lovecraft_the_shunned_house_pg31469'\n",
      "Lovecraft, Howard Phillips / The Dunwich Horror\n",
      "Lovecraft, Howard Phillips / The Shunned House\n",
      "Machen, Arthur / The House of Souls\n",
      "Machen, Arthur / The Great God Pan\n",
      "Machen, Arthur / The Great God Pan\n",
      "Middleton, Richard / The Ghost Ship\n",
      "Problem with nye-comic-history-of-english-pg11138.txt: [Errno 2] No such file or directory: '../data/Gutenberg-2019-10-21/nye-comic-history-of-english-pg11138.txt'\n",
      "O'Donnell, Elliott / The Sorcery Club\n",
      "O'Donnell, Elliott / Scottish Ghost Stories \n",
      "Onions, Oliver / Widdershins\n",
      "Problem with perrin_star_of_india_pg42.txt: [Errno 2] No such file or directory: '../data/Gutenberg-2019-10-21/perrin_star_of_india_pg42.txt'\n",
      "Piper, Beam / Murder in the Gunroom\n",
      "Piper, H. Beam / Murder in the Gunroom\n",
      "Piper, H. Beam / The Cosmic Computer\n",
      "Piper, H. Beam  / Omnilingual\n",
      "Problem with piper_omnilingual_pg19445.txt: 'utf-8' codec can't decode byte 0xf2 in position 6412: invalid continuation byte\n",
      "Poe, Edgar Allan / The Masque of Red Death\n",
      "Poe, Edgar Allan / The Works of Edgar Allan Poe: Volume 1\n",
      "Poe, Edgar Allan / The Cask of Amontillado\n",
      "Poe, Edgar Allan / The Pit and the Pendulum\n",
      "Poe, Edgar Allan / The Fall of the House of Usher\n",
      "Poe, Edgar Allan / The Tell-Tale Heart\n",
      "Poe, Edgar Allan / The Works of Edgar Allan Poe — Volume 2\n",
      "Poe, Edgar Allan / The Works of Edgar Allan Poe — Volume 3\n",
      "Polidori, John William / The Vampyre\n",
      "Problem with prest_varney_the_vampire_pg14833.txt: [Errno 2] No such file or directory: '../data/Gutenberg-2019-10-21/prest_varney_the_vampire_pg14833.txt'\n",
      "Rand, Ayn / Anthem\n",
      "Rex, Beach / The Barrier\n",
      "Rohmer, Sax / The Insidious Dr. Fu Manchu\n",
      "Rohmer, Sax / The Golden Scorpion\n",
      "Shelley, Mary / Frankenstein\n",
      "Problem with sinclair_the_jungle_pg140.txt: [Errno 2] No such file or directory: '../data/Gutenberg-2019-10-21/sinclair_the_jungle_pg140.txt'\n",
      "Sinclair, Upton / Samuel the Seeker\n",
      "Stevenson, Robert Louis / The Waif Woman\n",
      "Problem with sevenson_kidnapped_pg421.txt: [Errno 2] No such file or directory: '../data/Gutenberg-2019-10-21/sevenson_kidnapped_pg421.txt'\n",
      "Problem with stevenson_the_strange_case_of_dr_jekyll_and_mr_hyde_pg42.txt: [Errno 2] No such file or directory: '../data/Gutenberg-2019-10-21/stevenson_the_strange_case_of_dr_jekyll_and_mr_hyde_pg42.txt'\n",
      "Stevenson, Robert Louis  / The Strange Case Of Dr. Jekyll And Mr. Hyde\n",
      "Stevenson, Roberts / Treasure Island\n",
      "Stoker, Bram / The Lady of the Shroud\n",
      "Stoker, Bram / The Jewel of Seven Stars\n",
      "Problem with stoker_dracula_pg160815: [Errno 2] No such file or directory: '../data/Gutenberg-2019-10-21/stoker_dracula_pg160815'\n",
      "Stoker, Bram / Dracula's Guest\n",
      "Stoker, Bram / The Man\n",
      "Stoker, Bram / The Mystery of the Sea\n",
      "Stowe, Harriet Beecher / Uncle Tom's Cabin\n",
      "Swift, Jonathan / Gulliver's Travels Into Several Remote Nations of the World\n",
      "Twain, Mark / Adventures of Huckleberry Finn\n",
      "Twain, Mark / Adventures of Tom Sawyer\n",
      "Verne, Jules / Around the World in Eighty Days\n",
      "Viereck, George Sylvester / The House of the Vampire\n",
      "Walpole, Horace / The Castle of Otranto\n",
      "Wells, Herbert George / The Invisible Man\n",
      "Wells, Herbert George / The Lair of the White Worm\n",
      "Wells, Herbert Goerge / The War of the Worlds\n",
      "Wharton, Edith / Ethan Frome\n",
      "Wilde, Oscar / Intentions\n",
      "Problem with wilde_intentions_pg887.txt: 'utf-8' codec can't decode byte 0xd5 in position 241: invalid continuation byte\n",
      "Problem with wilde_the_picture_of_dorian_gray_pg174: [Errno 2] No such file or directory: '../data/Gutenberg-2019-10-21/wilde_the_picture_of_dorian_gray_pg174'\n",
      "Wilde, Oscar / The Importance of Being Earnest\n",
      "Wilde, Oscar / An Ideal Husband \n",
      "Wodehouse, P.G. / A Damsel in distress\n",
      "Problem with wodehouse_a_damsel_in_distress_pg2233.txt: 'utf-8' codec can't decode byte 0x99 in position 1592: invalid start byte\n"
     ]
    }
   ],
   "source": [
    "word_pattern = re.compile(\"\\w[\\w\\-\\']*\\w|\\w\")\n",
    "\n",
    "documents = []\n",
    "\n",
    "with open(\"../data/Gutenberg-2019-10-21/metadata.csv\", encoding=\"utf-8\") as reader:\n",
    "    csv_reader = csv.DictReader(reader)\n",
    "    for document in csv_reader:\n",
    "        try:\n",
    "            with open(\"../data/Gutenberg-2019-10-21/{}\".format(document[\"Filename\"]), encoding=\"utf-8\") as reader:\n",
    "                print(document[\"Author\"] + \" / \" + document[\"Title\"])\n",
    "\n",
    "                lines = []\n",
    "                for line in reader:\n",
    "                    lines.append(line.rstrip())\n",
    "\n",
    "                text = \" \".join(lines)\n",
    "                document[\"Text\"] = text\n",
    "                document[\"Tokens\"] = word_pattern.findall(text)\n",
    "                \n",
    "                documents.append(document)\n",
    "        except Exception as e:\n",
    "            print(f'Problem with {document[\"Filename\"]}: {e}')"
   ]
  },
  {
   "cell_type": "code",
   "execution_count": 73,
   "metadata": {},
   "outputs": [],
   "source": [
    "SECTIONS = 100\n",
    "# we will now split each document into  even sections based on word count\n",
    "split_documents = collections.defaultdict(dict)\n",
    "\n",
    "for doc in documents:\n",
    "    section_size = int(len(doc[\"Tokens\"]) / SECTIONS)\n",
    "    split_documents[doc[\"Title\"]][\"Sections\"] = [doc[\"Tokens\"][(section_size*i):(section_size*(i+1))] for i in range(SECTIONS - 1)]\n",
    "    \n",
    "    # special case for the last index if length isn't divisible by SECTIONS\n",
    "    split_documents[doc[\"Title\"]][\"Sections\"].append(doc[\"Tokens\"][(section_size*(SECTIONS-1)):len(doc[\"Tokens\"])])"
   ]
  },
  {
   "cell_type": "code",
   "execution_count": 74,
   "metadata": {},
   "outputs": [],
   "source": [
    "# taken from week3\n",
    "\n",
    "word_weights = {}\n",
    "with open(\"../week3/bingliu.csv\") as lexicon_reader:\n",
    "    for line in lexicon_reader:\n",
    "        weight, word = line.rstrip().split(\",\") ## split on comma\n",
    "        word_weights[word] = float(weight) ## convert string to number"
   ]
  },
  {
   "cell_type": "code",
   "execution_count": 75,
   "metadata": {},
   "outputs": [],
   "source": [
    "def score(text):\n",
    "    counter = Counter(text)\n",
    "    score = 0\n",
    "    for token in counter.keys():\n",
    "        token = token.lower()\n",
    "        if token in word_weights:\n",
    "            score += counter[token] * word_weights[token]\n",
    "    return score / len(counter)"
   ]
  },
  {
   "cell_type": "code",
   "execution_count": 76,
   "metadata": {},
   "outputs": [
    {
     "name": "stdout",
     "output_type": "stream",
     "text": [
      "Emma\n",
      "Persuasion\n",
      "Pride and Prejudice\n",
      "Sense and Sensibility\n",
      "Glinda of Oz\n",
      "The Wonderful Wizard of Oz\n",
      "An Occurrence at Owl Creek Bridge\n",
      "Present at a Hanging and Other Ghost Stories\n",
      "The Parenticide Club\n",
      "The Damned Thing\n",
      "The Damned\n",
      "The Willows\n",
      "Four Weird Tales\n",
      "Day and Night Stories\n",
      "The Wendigo\n",
      "A Sweet Little Maid\n",
      "Jane Eyre: An Autobiography\n",
      "Wuthering Heights\n",
      "Bulfinch's Mythology\n",
      "The Odyssey\n",
      "Alice's Adventures in Wonderland\n",
      "The Murder on the Links\n",
      "The Secret Adversary\n",
      "The Moonstone\n",
      "Heart of Darkness\n",
      "La Grande Breteche\n",
      "A Christmas Carol\n",
      "Great Expectations\n",
      "A Tale of Two Cities\n",
      "Oliver Twist\n",
      "A Christmas Carol\n",
      "A Study in Scarlet\n",
      "Tales of Terror and Mystery\n",
      "The Adventure Of Sherlock Holmes\n",
      "The Hound of The Baskervilles\n",
      "The Parasite\n",
      "Round the Fire Stories\n",
      "The Three Musketeers\n",
      "The Man in the Iron Mask\n",
      "The Count of Monte Cristo\n",
      "The Book of Wonder\n",
      "The Used People Lot\n",
      "The House of the White Shadows\n",
      "The Beautiful and the Damned\n",
      "This Side of Paradise\n",
      "The Markenmore Mystery\n",
      "The Middle of Things\n",
      "Clarimonde\n",
      "The Mummy's Foot\n",
      "The Yellow Wallpaper\n",
      "Each Man Kills\n",
      "Kwaidan Stories and Studies of Strange Things\n",
      "The Forest Lovers\n",
      "Leviathan\n",
      "The House on the Borderland\n",
      "The Boats of the \"Glen Carrig\"\n",
      "The Illiad\n",
      "Life Blood\n",
      "Dead Men Tell No Tales\n",
      "Notre Dame de Paris\n",
      "Les Miserables\n",
      "Gengangere\n",
      "The Legend of Sleepy Hollow\n",
      "Peter Pan\n",
      "The Monkey's Paw\n",
      "The Well\n",
      "The Turn of the Screw\n",
      "Ghost Story of an Antiquary\n",
      "A Thin Ghost and Others\n",
      "Dubliners\n",
      "Metamorphosis\n",
      "The Trial\n",
      "The Crystal Stopper\n",
      "The Teeth of the Tiger\n",
      "The Call of the Wild\n",
      "The Shunned House\n",
      "The Dunwich Horror\n",
      "The Shunned House\n",
      "The House of Souls\n",
      "The Great God Pan\n",
      "The Great God Pan\n",
      "The Ghost Ship\n",
      "The Sorcery Club\n",
      "Scottish Ghost Stories \n",
      "Widdershins\n",
      "Murder in the Gunroom\n",
      "Murder in the Gunroom\n",
      "The Cosmic Computer\n",
      "The Masque of Red Death\n",
      "The Works of Edgar Allan Poe: Volume 1\n",
      "The Cask of Amontillado\n",
      "The Pit and the Pendulum\n",
      "The Fall of the House of Usher\n",
      "The Tell-Tale Heart\n",
      "The Works of Edgar Allan Poe — Volume 2\n",
      "The Works of Edgar Allan Poe — Volume 3\n",
      "The Vampyre\n",
      "Anthem\n",
      "The Barrier\n",
      "The Insidious Dr. Fu Manchu\n",
      "The Golden Scorpion\n",
      "Frankenstein\n",
      "Samuel the Seeker\n",
      "The Waif Woman\n",
      "The Strange Case Of Dr. Jekyll And Mr. Hyde\n",
      "Treasure Island\n",
      "The Lady of the Shroud\n",
      "The Jewel of Seven Stars\n",
      "Dracula's Guest\n",
      "The Man\n",
      "The Mystery of the Sea\n",
      "Uncle Tom's Cabin\n",
      "Gulliver's Travels Into Several Remote Nations of the World\n",
      "Adventures of Huckleberry Finn\n",
      "Adventures of Tom Sawyer\n",
      "Around the World in Eighty Days\n",
      "The House of the Vampire\n",
      "The Castle of Otranto\n",
      "The Invisible Man\n",
      "The Lair of the White Worm\n",
      "The War of the Worlds\n",
      "Ethan Frome\n",
      "The Importance of Being Earnest\n",
      "An Ideal Husband \n"
     ]
    }
   ],
   "source": [
    "nlp = spacy.load(\"en_core_web_sm\", disable=[\"parser\", \"ner\", \"entity_linker\", \"textcat\", \"entity_ruler\"])\n",
    "\n",
    "for doc in documents:\n",
    "    split_documents[doc[\"Title\"]][\"Sentiment\"] = [score(sec) for sec in split_documents[doc[\"Title\"]][\"Sections\"]]\n",
    "    print (doc[\"Title\"])\n",
    "\n"
   ]
  },
  {
   "cell_type": "code",
   "execution_count": null,
   "metadata": {},
   "outputs": [],
   "source": []
  },
  {
   "cell_type": "code",
   "execution_count": 77,
   "metadata": {},
   "outputs": [],
   "source": [
    "def plot_scores(scores):\n",
    "    fig = plt.figure()\n",
    "    ax = plt.axes()\n",
    "    x = np.linspace(0, 100, 100)\n",
    "    ax.plot(x, scores)\n",
    "    plt.show()"
   ]
  },
  {
   "cell_type": "code",
   "execution_count": 78,
   "metadata": {},
   "outputs": [
    {
     "data": {
      "image/png": "[encoded data removed]",
      "text/plain": [
       "<Figure size 432x288 with 1 Axes>"
      ]
     },
     "metadata": {
      "needs_background": "light"
     },
     "output_type": "display_data"
    }
   ],
   "source": [
    "s = split_documents[\"The Cask of Amontillado\"][\"Sentiment\"]\n",
    "plot_scores(s)"
   ]
  },
  {
   "cell_type": "code",
   "execution_count": 79,
   "metadata": {},
   "outputs": [],
   "source": [
    "def fft_smooth(scores):\n",
    "    time_step = 0.01\n",
    "    sig_fft = fftpack.fft(scores)\n",
    "    power = np.abs(sig_fft)\n",
    "    sample_freq = fftpack.fftfreq(len(scores), d=time_step)\n",
    "    pos_mask = np.where(sample_freq > 0)\n",
    "    freqs = sample_freq[pos_mask]\n",
    "    peak_freq = freqs[power[pos_mask].argmax()]\n",
    "    high_freq_fft = sig_fft.copy()\n",
    "    high_freq_fft[np.abs(sample_freq) > peak_freq] = 0\n",
    "    filtered_sig = fftpack.ifft(high_freq_fft)\n",
    "    return [np.real(x) for x in filtered_sig]"
   ]
  },
  {
   "cell_type": "code",
   "execution_count": 80,
   "metadata": {},
   "outputs": [
    {
     "data": {
      "image/png": "[encoded data removed]",
      "text/plain": [
       "<Figure size 432x288 with 1 Axes>"
      ]
     },
     "metadata": {
      "needs_background": "light"
     },
     "output_type": "display_data"
    }
   ],
   "source": [
    "plot_scores(fft_smooth(s))"
   ]
  },
  {
   "cell_type": "code",
   "execution_count": 96,
   "metadata": {},
   "outputs": [],
   "source": [
    "sentiment = np.zeros((120, 100))\n",
    "smooth_sentiment = np.zeros((120, 100))\n",
    "i = 0\n",
    "for key in split_documents:\n",
    "    sentiment[i] = split_documents[key]['Sentiment']\n",
    "    smooth_sentiment[i] = fft_smooth(split_documents[key]['Sentiment'])\n",
    "    i += 1"
   ]
  },
  {
   "cell_type": "code",
   "execution_count": 97,
   "metadata": {},
   "outputs": [],
   "source": [
    "kmeans = KMeans(n_clusters=3, random_state=0).fit(sentiment)\n",
    "smooth_kmeans = KMeans(n_clusters=3, random_state=0).fit(smooth_sentiment)"
   ]
  },
  {
   "cell_type": "code",
   "execution_count": 98,
   "metadata": {},
   "outputs": [],
   "source": [
    "U,S,Vt = np.linalg.svd(sentiment)"
   ]
  },
  {
   "cell_type": "code",
   "execution_count": 99,
   "metadata": {},
   "outputs": [
    {
     "data": {
      "image/png": "[encoded data removed]",
      "text/plain": [
       "<Figure size 432x288 with 1 Axes>"
      ]
     },
     "metadata": {
      "needs_background": "light"
     },
     "output_type": "display_data"
    }
   ],
   "source": [
    "colormap = {0: \"red\", \n",
    "            1: \"blue\",\n",
    "            2: \"green\", \n",
    "            3: \"purple\",\n",
    "            4: \"gray\",\n",
    "            5: \"orange\",\n",
    "           }\n",
    "\n",
    "categories = [colormap[kmeans.labels_[i]] for i in range(len(sentiment))]\n",
    "plt.scatter(U[:,0], U[:,1], c=categories)\n",
    "plt.show()"
   ]
  },
  {
   "cell_type": "code",
   "execution_count": 100,
   "metadata": {},
   "outputs": [
    {
     "data": {
      "image/png": "[encoded data removed]",
      "text/plain": [
       "<Figure size 432x288 with 1 Axes>"
      ]
     },
     "metadata": {
      "needs_background": "light"
     },
     "output_type": "display_data"
    }
   ],
   "source": [
    "U,S,Vt = np.linalg.svd(smooth_sentiment)\n",
    "colormap = {0: \"red\", \n",
    "            1: \"blue\",\n",
    "            2: \"green\", \n",
    "            3: \"purple\",\n",
    "            4: \"gray\",\n",
    "            5: \"orange\",\n",
    "           }\n",
    "\n",
    "categories = [colormap[smooth_kmeans.labels_[i]] for i in range(len(smooth_sentiment))]\n",
    "plt.scatter(U[:,0], U[:,1], c=categories)\n",
    "plt.show()"
   ]
  },
  {
   "cell_type": "code",
   "execution_count": 101,
   "metadata": {},
   "outputs": [],
   "source": [
    "del split_documents[\"The Cask of Amontillado\"]\n",
    "sentiment = np.zeros((120, 100))\n",
    "smooth_sentiment = np.zeros((120, 100))\n",
    "i = 0\n",
    "for key in split_documents:\n",
    "    sentiment[i] = split_documents[key]['Sentiment']\n",
    "    smooth_sentiment[i] = fft_smooth(split_documents[key]['Sentiment'])\n",
    "    i += 1\n",
    "    \n",
    "kmeans = KMeans(n_clusters=2, random_state=0).fit(sentiment)\n",
    "smooth_kmeans = KMeans(n_clusters=2, random_state=0).fit(smooth_sentiment)"
   ]
  },
  {
   "cell_type": "code",
   "execution_count": 102,
   "metadata": {},
   "outputs": [
    {
     "data": {
      "image/png": "[encoded data removed]",
      "text/plain": [
       "<Figure size 432x288 with 1 Axes>"
      ]
     },
     "metadata": {
      "needs_background": "light"
     },
     "output_type": "display_data"
    }
   ],
   "source": [
    "U,S,Vt = np.linalg.svd(sentiment)\n",
    "colormap = {0: \"red\", \n",
    "            1: \"blue\",\n",
    "            2: \"green\", \n",
    "            3: \"purple\",\n",
    "            4: \"gray\",\n",
    "            5: \"orange\",\n",
    "           }\n",
    "\n",
    "categories = [colormap[kmeans.labels_[i]] for i in range(len(sentiment))]\n",
    "plt.scatter(U[:,0], U[:,1], c=categories)\n",
    "plt.show()"
   ]
  },
  {
   "cell_type": "code",
   "execution_count": 103,
   "metadata": {},
   "outputs": [
    {
     "data": {
      "image/png": "[encoded data removed]",
      "text/plain": [
       "<Figure size 432x288 with 1 Axes>"
      ]
     },
     "metadata": {
      "needs_background": "light"
     },
     "output_type": "display_data"
    }
   ],
   "source": [
    "U,S,Vt = np.linalg.svd(smooth_sentiment)\n",
    "colormap = {0: \"red\", \n",
    "            1: \"blue\",\n",
    "            2: \"green\", \n",
    "            3: \"purple\",\n",
    "            4: \"gray\",\n",
    "            5: \"orange\",\n",
    "           }\n",
    "\n",
    "categories = [colormap[smooth_kmeans.labels_[i]] for i in range(len(smooth_sentiment))]\n",
    "plt.scatter(U[:,0], U[:,1], c=categories)\n",
    "plt.show()"
   ]
  }
 ],
 "metadata": {
  "kernelspec": {
   "display_name": "Python 3",
   "language": "python",
   "name": "python3"
  },
  "language_info": {
   "codemirror_mode": {
    "name": "ipython",
    "version": 3
   },
   "file_extension": ".py",
   "mimetype": "text/x-python",
   "name": "python",
   "nbconvert_exporter": "python",
   "pygments_lexer": "ipython3",
   "version": "3.6.5"
  }
 },
 "nbformat": 4,
 "nbformat_minor": 2
}
