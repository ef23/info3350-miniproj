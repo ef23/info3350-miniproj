{
 "cells": [
  {
   "cell_type": "markdown",
   "metadata": {},
   "source": [
    "# Collaborative corpus building project\n",
    "\n",
    "Goal: Building collections is a vital part of text analysis. Curated corpora for this collection exist, but I want us to gain experience putting together collections and addressing the choices that we make when we build a collection.\n",
    "\n",
    "In this mini-project each student will adopt one of the [Federalist Papers](https://www.congress.gov/resources/display/content/The+Federalist+Papers) (More about the [FPs on Wikipedia](https://en.wikipedia.org/wiki/The_Federalist_Papers)). For comparison, scanned copies of an [1802 edition](https://babel.hathitrust.org/cgi/pt?id=nyp.33433081767232&view=1up&seq=60) and an [1810 edition](https://babel.hathitrust.org/cgi/pt?id=nyp.33433084765985&view=1up&seq=63) are available at the Hathi Trust library.\n",
    "\n",
    "You will create a `.txt` file containing the text of document, and upload it to [this shared folder](https://cornell.box.com/s/mdpyxg0fs2vq2d4dy4y00drabzn3tvfk). You will also contribute metadata for each document to [this shared spreadsheet](https://docs.google.com/spreadsheets/d/1K00zCweB3pcXrxBxJrkUx32JEAOZ-c3DZLOrlxkpkWo/edit?usp=sharing).\n",
    "\n",
    "We will need to agree on several conventions. We will discuss these in class:\n",
    "\n",
    "* What convention should we use for filenames?\n",
    "* What should we include and not include within the \"text\" of the document?\n",
    "* How should we record metadata values?\n",
    "* How do we deal with missing values?\n",
    "* Should we include any additional metadata?\n",
    "\n",
    "Once you have uploaded your document, find another person at your table to check your document. Both of you will put your Net ID on the row in the shared spreadsheet for the document.\n",
    "\n",
    "There are likely to be more documents than students. Be ready to volunteer to do more than one."
   ]
  },
  {
   "cell_type": "markdown",
   "metadata": {},
   "source": [
    "# Numpy exercises\n",
    "\n",
    "To analyze the collection we will be doing operations on matrices. Here are some exercises that will give you examples of syntax for these operations."
   ]
  },
  {
   "cell_type": "markdown",
   "metadata": {},
   "source": [
    "Part 1. What does `numpy.ones()` do? What is the meaning of the two-element tuple I am passing as an argument to this function?\n",
    "\n",
    "[Answer below]\n",
    "\n"
   ]
  },
  {
   "cell_type": "code",
   "execution_count": null,
   "metadata": {},
   "outputs": [],
   "source": [
    "import numpy\n",
    "\n",
    "five_by_three = numpy.ones( (5,3) )\n",
    "five_by_three"
   ]
  },
  {
   "cell_type": "markdown",
   "metadata": {},
   "source": [
    "Part 2. What does the `shape` attribute of a numpy array represent? What is the meaning of each number, and what order do they appear in?\n",
    "\n",
    "[Answer below]\n",
    "\n"
   ]
  },
  {
   "cell_type": "code",
   "execution_count": null,
   "metadata": {},
   "outputs": [],
   "source": [
    "five_by_three.shape"
   ]
  },
  {
   "cell_type": "markdown",
   "metadata": {},
   "source": [
    "Part 3. What is the difference between the following two calls of the `sum` function? Create a new cell that has `axis=1`. How is the result different? What does `axis` mean, and how is this related to the `shape` variable?"
   ]
  },
  {
   "cell_type": "code",
   "execution_count": null,
   "metadata": {},
   "outputs": [],
   "source": [
    "five_by_three.sum()"
   ]
  },
  {
   "cell_type": "code",
   "execution_count": null,
   "metadata": {},
   "outputs": [],
   "source": [
    "five_by_three.sum(axis=0) # <- copy this cell"
   ]
  },
  {
   "cell_type": "markdown",
   "metadata": {},
   "source": [
    "Part 4. Use `numpy.random.normal` to create a matrix with 15 columns and 10 rows, with mean 3.3 and standard deviation 2.6. Save the result as `random_matrix`. [see documentation](https://docs.scipy.org/doc/numpy-1.14.0/reference/generated/numpy.random.normal.html). Print the matrix. The `mean` and `std` functions work the same way as `sum`. Use them to calculate and print the sample mean and standard deviation of the rows and of the columns of your matrix."
   ]
  },
  {
   "cell_type": "code",
   "execution_count": null,
   "metadata": {
    "collapsed": true
   },
   "outputs": [],
   "source": [
    "# Generate your matrix here and print summary statistics by row and by column"
   ]
  },
  {
   "cell_type": "markdown",
   "metadata": {},
   "source": [
    "Part 5. Print the third column from your `random_matrix`. Print the seventh row from the matrix. Print the value in the third column and the seventh row."
   ]
  },
  {
   "cell_type": "code",
   "execution_count": null,
   "metadata": {
    "collapsed": true
   },
   "outputs": [],
   "source": [
    "# Print rows and columns here\n"
   ]
  },
  {
   "cell_type": "markdown",
   "metadata": {},
   "source": [
    "Part 6. Finally, we often need to subtract the same vector from every row or every column. We can use `numpy.newaxis` to \"stretch\" a vector to the same shape as a matrix for this purpose. [Blog post by Ian Dzindo about newaxis](https://medium.com/@ian.dzindo01/what-is-numpy-newaxis-and-when-to-use-it-8cb61c7ed6ae).\n",
    "\n",
    "Generate an array containing the mean of each column of your `random_matrix`. Use `shape` to show that this mean array has the same number of elements as a row of the matrix.\n",
    "\n",
    "Use `newaxis` to create a new matrix `normalized_matrix` where you have subtracted the column means from each row. Print this matrix."
   ]
  },
  {
   "cell_type": "code",
   "execution_count": null,
   "metadata": {
    "collapsed": true
   },
   "outputs": [],
   "source": [
    "# Subtract here"
   ]
  }
 ],
 "metadata": {
  "kernelspec": {
   "display_name": "Python 3",
   "language": "python",
   "name": "python3"
  },
  "language_info": {
   "codemirror_mode": {
    "name": "ipython",
    "version": 3
   },
   "file_extension": ".py",
   "mimetype": "text/x-python",
   "name": "python",
   "nbconvert_exporter": "python",
   "pygments_lexer": "ipython3",
   "version": "3.6.9"
  }
 },
 "nbformat": 4,
 "nbformat_minor": 2
}
