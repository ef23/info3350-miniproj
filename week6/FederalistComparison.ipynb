{
 "cells": [
  {
   "cell_type": "markdown",
   "metadata": {},
   "source": [
    "# Comparison of Federalist Papers\n",
    "\n",
    "Can we argue for the authorship of the disputed Federalist Papers?\n",
    "\n",
    "Background: Read [Jenny Bryan's rules for naming things](https://speakerdeck.com/jennybc/how-to-name-files)."
   ]
  },
  {
   "cell_type": "code",
   "execution_count": null,
   "metadata": {},
   "outputs": [],
   "source": [
    "import csv, sys, os\n",
    "import spacy\n",
    "from collections import Counter\n",
    "import numpy\n",
    "\n",
    "from matplotlib import pyplot\n",
    "\n",
    "nlp = spacy.load(\"en_core_web_sm\")"
   ]
  },
  {
   "cell_type": "markdown",
   "metadata": {},
   "source": [
    "Part 1: Why are we missing about ten documents? Modify the code to fix this. Hint: String formatting."
   ]
  },
  {
   "cell_type": "code",
   "execution_count": null,
   "metadata": {},
   "outputs": [],
   "source": [
    "documents = []\n",
    "\n",
    "with open(\"../data/FederalistPapers/metadata_federalist.csv\", encoding=\"utf-8\") as reader:\n",
    "    csv_reader = csv.DictReader(reader)\n",
    "    for row in csv_reader:\n",
    "        ## convert string to int\n",
    "        row[\"Number\"] = int(row[\"Number\"])\n",
    "        \n",
    "        row[\"Filename\"] = \"../data/FederalistPapers/federalist_{}.txt\".format(row[\"Number\"])\n",
    "        if os.path.exists(row[\"Filename\"]):\n",
    "            documents.append(row)"
   ]
  },
  {
   "cell_type": "code",
   "execution_count": null,
   "metadata": {},
   "outputs": [],
   "source": [
    "len(documents)"
   ]
  },
  {
   "cell_type": "code",
   "execution_count": null,
   "metadata": {},
   "outputs": [],
   "source": [
    "for document in documents:\n",
    "    try:\n",
    "        with open(document[\"Filename\"], encoding=\"utf-8\") as reader:\n",
    "            print(document[\"Title\"])\n",
    "\n",
    "            lines = []\n",
    "            for line in reader:\n",
    "                lines.append(line.rstrip())\n",
    "\n",
    "            text = \" \".join(lines)\n",
    "            document[\"Spacy\"] = nlp(text)\n",
    "    except:\n",
    "        print(\"Problem with {}\".format(document[\"Number\"]))"
   ]
  },
  {
   "cell_type": "code",
   "execution_count": null,
   "metadata": {},
   "outputs": [],
   "source": [
    "all_counts = Counter()\n",
    "\n",
    "for document in documents:\n",
    "    doc_counter = Counter([token.text for token in document[\"Spacy\"]])\n",
    "    all_counts += doc_counter\n",
    "    document[\"TokenCounts\"] = doc_counter\n",
    "\n",
    "all_counts.most_common(30)"
   ]
  },
  {
   "cell_type": "code",
   "execution_count": null,
   "metadata": {},
   "outputs": [],
   "source": [
    "num_top_words = 150\n",
    "top_words = [w for w, c in all_counts.most_common(num_top_words)]\n",
    "\n",
    "doc_word_counts = numpy.zeros( (len(documents), num_top_words) )\n",
    "\n",
    "for doc_id, document in enumerate(documents):\n",
    "    for word_id, word in enumerate(top_words):\n",
    "        doc_word_counts[doc_id,word_id] = document[\"TokenCounts\"][word]\n",
    "\n",
    "doc_word_counts[:5,:10]"
   ]
  },
  {
   "cell_type": "markdown",
   "metadata": {},
   "source": [
    "Part 2: Divide the matrix appropriately so that each document sums to 1.0"
   ]
  },
  {
   "cell_type": "code",
   "execution_count": null,
   "metadata": {},
   "outputs": [],
   "source": [
    "doc_lengths = doc_word_counts.sum(axis=1)\n",
    "print(doc_lengths.shape)\n",
    "doc_word_probs = doc_word_counts / ## What should go here?\n",
    "doc_word_probs[:5,:10]"
   ]
  },
  {
   "cell_type": "markdown",
   "metadata": {},
   "source": [
    "Part 3: Include code to calculate mean and standard deviation"
   ]
  },
  {
   "cell_type": "code",
   "execution_count": null,
   "metadata": {},
   "outputs": [],
   "source": [
    "word_means = doc_word_probs. ## what goes here?\n",
    "word_sds = doc_word_probs.   ## what goes here?\n",
    "\n",
    "doc_word_zscores = ## subtract means, divide by std\n",
    "doc_word_zscores[:5,:10]"
   ]
  },
  {
   "cell_type": "markdown",
   "metadata": {},
   "source": [
    "Here we create a low-dimensional projection and "
   ]
  },
  {
   "cell_type": "code",
   "execution_count": null,
   "metadata": {},
   "outputs": [],
   "source": [
    "U,S,Vt = numpy.linalg.svd(doc_word_zscores)"
   ]
  },
  {
   "cell_type": "markdown",
   "metadata": {},
   "source": [
    "Part 4: What is going on with the Author field? How should we fix this?"
   ]
  },
  {
   "cell_type": "code",
   "execution_count": null,
   "metadata": {},
   "outputs": [],
   "source": [
    "Counter([doc[\"Author\"] for doc in documents])"
   ]
  },
  {
   "cell_type": "code",
   "execution_count": null,
   "metadata": {},
   "outputs": [],
   "source": [
    "colormap = {\"Alexander Hamilton\": \"red\", \"James Madison\": \"blue\",\n",
    "            \"John Jay\": \"green\", \"Alexander Hamilton and James Madison\": \"purple\",\n",
    "            \"Alexander Hamilton or James Madison\": \"gray\",}\n",
    "\n",
    "authors = [colormap[doc[\"Author\"]] for doc in documents]\n",
    "\n",
    "pyplot.scatter(U[:,0], U[:,1], c=authors)\n",
    "pyplot.show()"
   ]
  },
  {
   "cell_type": "markdown",
   "metadata": {},
   "source": [
    "Part 5: "
   ]
  },
  {
   "cell_type": "code",
   "execution_count": null,
   "metadata": {},
   "outputs": [],
   "source": [
    "descriptors = [\"{} {}, {}\".format(i, doc[\"author\"], doc[\"title\"][:30]) for i, doc in enumerate(documents)]\n",
    "\n",
    "zscore_norms = numpy.linalg.norm(doc_word_zscores, axis=1)\n",
    "\n",
    "def nearest(query_id):\n",
    "    cosines = doc_word_zscores.dot(doc_word_zscores[query_id,:]) / (zscore_norms * zscore_norms[query_id])\n",
    "    \n",
    "    return sorted(zip(cosines, descriptors), reverse=True)"
   ]
  },
  {
   "cell_type": "code",
   "execution_count": null,
   "metadata": {},
   "outputs": [],
   "source": [
    "print(descriptors[62])\n",
    "nearest(62)"
   ]
  },
  {
   "cell_type": "markdown",
   "metadata": {},
   "source": [
    "Part 5: Modify the number of top words. Try different ranges, including non-top words. Are the results different, and if so, how?\n",
    "\n",
    "[Answer below]\n",
    "\n"
   ]
  },
  {
   "cell_type": "markdown",
   "metadata": {},
   "source": [
    "### More advanced NLP\n",
    "\n",
    "The following demonstrates how to access part-of-speech and syntax trees.\n",
    "\n",
    "We will explore these more on Wednesday."
   ]
  },
  {
   "cell_type": "code",
   "execution_count": null,
   "metadata": {},
   "outputs": [],
   "source": [
    "sentences = list(document.sents)\n",
    "\n",
    "for sentence in sentences:\n",
    "    parts_of_speech = [token.pos_ for token in sentence]\n",
    "    print(sentence)\n",
    "    print(Counter(parts_of_speech))"
   ]
  },
  {
   "cell_type": "code",
   "execution_count": null,
   "metadata": {},
   "outputs": [],
   "source": [
    "spacy.displacy.render(sentences[3], jupyter=True)"
   ]
  }
 ],
 "metadata": {
  "kernelspec": {
   "display_name": "Python 3",
   "language": "python",
   "name": "python3"
  },
  "language_info": {
   "codemirror_mode": {
    "name": "ipython",
    "version": 3
   },
   "file_extension": ".py",
   "mimetype": "text/x-python",
   "name": "python",
   "nbconvert_exporter": "python",
   "pygments_lexer": "ipython3",
   "version": "3.7.3"
  }
 },
 "nbformat": 4,
 "nbformat_minor": 2
}
