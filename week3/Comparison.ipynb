{
 "cells": [
  {
   "cell_type": "markdown",
   "metadata": {},
   "source": [
    "# Comparing two Counters\n",
    "\n",
    "Today we will look at a way of scoring the significance of differences between frequency distributions, based on a method called \"Fightin' Words\" by Monroe, Colaresi, and Quinn."
   ]
  },
  {
   "cell_type": "code",
   "execution_count": null,
   "metadata": {
    "collapsed": true
   },
   "outputs": [],
   "source": [
    "import re, sys, glob, math\n",
    "import numpy\n",
    "from collections import Counter\n",
    "from matplotlib import pyplot"
   ]
  },
  {
   "cell_type": "markdown",
   "metadata": {},
   "source": [
    "1. What is the encoding of the files? How are they structured? What do we need to do to separate text from non-textual words like speakers and stage directions?\n",
    "\n",
    "2. Look at the most frequent words in the counters for comedy and tragedy. What is different? Is this view informative about differences between these two genres?\n",
    "\n",
    "3. There is a problem calculating `log_rank`. What is it, and how can we fix it?\n",
    "\n",
    "4. What does the `generate_scores` function do? What is the effect of the `smoothing` parameter?\n",
    "\n",
    "5. Look at the plot showing \"Fightin' Words\" scores for comedy vs. tragedy. What stands out? What does this tell you about these genres in Shakespeare? What if any changes might you make to how we tokenize or otherwise pre-process the documents?\n",
    "\n",
    "6. Create the same plot for tragedy vs. history and comedy vs. history. What is different? What words would you want to look at in their original context and why?"
   ]
  },
  {
   "cell_type": "code",
   "execution_count": null,
   "metadata": {},
   "outputs": [],
   "source": [
    "genre_directories = { \"tragedy\" : \"shakespeare/tragedies\", \"comedy\" : \"shakespeare/comedies\", \"history\" : \"shakespeare/historical\" }\n",
    "\n",
    "word_pattern = re.compile(\"\\w[\\w\\-\\'’]*\\w|\\w\")\n",
    "\n",
    "# This counter will store the total frequency of each word type across all plays\n",
    "all_counts = Counter()\n",
    "\n",
    "# This dictionary will have one counter for each genre\n",
    "genre_counts = {}\n",
    "\n",
    "# This dictionary will have one dictionary for each genre, each containing one Counter for each play in that genre\n",
    "genre_play_counts = {}"
   ]
  },
  {
   "cell_type": "code",
   "execution_count": null,
   "metadata": {},
   "outputs": [],
   "source": [
    "# Read the plays from files\n",
    "\n",
    "for genre in genre_directories.keys():\n",
    "    \n",
    "    genre_play_counts[genre] = {}\n",
    "    genre_counts[genre] = Counter()\n",
    "    \n",
    "    for filename in glob.glob(\"{}/*.txt\".format(genre_directories[genre])):\n",
    "        \n",
    "        play_counter = Counter()\n",
    "        \n",
    "        genre_play_counts[genre][filename] = play_counter\n",
    "        \n",
    "        with open(filename, encoding=\"utf-8\") as file: ## What encoding?\n",
    "            \n",
    "            ## This block reads a file line by line.\n",
    "            for line in file:\n",
    "                line = line.rstrip()\n",
    "                \n",
    "                tokens = word_pattern.findall(line)\n",
    "                \n",
    "                play_counter.update(tokens)\n",
    "        \n",
    "        genre_counts[genre] += play_counter\n",
    "        all_counts += play_counter"
   ]
  },
  {
   "cell_type": "code",
   "execution_count": null,
   "metadata": {},
   "outputs": [],
   "source": [
    "genre_counts.keys()"
   ]
  },
  {
   "cell_type": "code",
   "execution_count": null,
   "metadata": {},
   "outputs": [],
   "source": [
    "genre_play_counts.keys()"
   ]
  },
  {
   "cell_type": "code",
   "execution_count": null,
   "metadata": {},
   "outputs": [],
   "source": [
    "genre_play_counts[\"comedy\"].keys()"
   ]
  },
  {
   "cell_type": "code",
   "execution_count": null,
   "metadata": {},
   "outputs": [],
   "source": [
    "genre_play_counts[\"comedy\"][\"shakespeare/comedies/The Merry Wives of Windsor.txt\"].most_common(30)"
   ]
  },
  {
   "cell_type": "code",
   "execution_count": null,
   "metadata": {},
   "outputs": [],
   "source": [
    "genre_counts[\"comedy\"].most_common(15)"
   ]
  },
  {
   "cell_type": "code",
   "execution_count": null,
   "metadata": {},
   "outputs": [],
   "source": [
    "genre_counts[\"tragedy\"].most_common(15)"
   ]
  },
  {
   "cell_type": "code",
   "execution_count": null,
   "metadata": {},
   "outputs": [],
   "source": [
    "vocabulary = [w for w, c in all_counts.most_common()]\n",
    "vocabulary_size = len(vocabulary)\n",
    "\n",
    "total_word_counts = numpy.array([all_counts[w] for w in vocabulary])\n",
    "log_counts = numpy.log(total_word_counts)\n",
    "\n",
    "word_ranks = numpy.arange(len(vocabulary))\n",
    "log_ranks = numpy.log(word_ranks)\n",
    "\n",
    "genres = genre_play_counts.keys()"
   ]
  },
  {
   "cell_type": "code",
   "execution_count": null,
   "metadata": {},
   "outputs": [],
   "source": [
    "pyplot.scatter(log_ranks, log_counts, alpha = 0.2)\n",
    "pyplot.show()"
   ]
  },
  {
   "cell_type": "code",
   "execution_count": null,
   "metadata": {
    "collapsed": true
   },
   "outputs": [],
   "source": [
    "def generate_scores(counter, smoothing = 0.0):\n",
    "    scores = numpy.zeros(vocabulary_size)\n",
    "    \n",
    "    for word_id, word in enumerate(vocabulary):\n",
    "        scores[word_id] = counter[word] + smoothing\n",
    "    \n",
    "    return scores\n",
    "\n",
    "def count_difference(counter_a, counter_b, smoothing):\n",
    "    \n",
    "    scores_a = generate_scores(counter_a, smoothing)\n",
    "    scores_b = generate_scores(counter_b, smoothing)\n",
    "    \n",
    "    ratio_a = scores_a / (numpy.sum(scores_a) - scores_a)\n",
    "    ratio_b = scores_b / (numpy.sum(scores_b) - scores_b)\n",
    "    \n",
    "    variances = (1.0/scores_a) + (1.0/scores_b)\n",
    "    \n",
    "    return numpy.log(ratio_a / ratio_b) / numpy.sqrt(variances)"
   ]
  },
  {
   "cell_type": "code",
   "execution_count": null,
   "metadata": {},
   "outputs": [],
   "source": [
    "comedy_tragedy_scores = count_difference(genre_counts[\"comedy\"], genre_counts[\"tragedy\"], 0.0)"
   ]
  },
  {
   "cell_type": "code",
   "execution_count": null,
   "metadata": {},
   "outputs": [],
   "source": [
    "sorted_words = sorted(zip(comedy_tragedy_scores, vocabulary))\n",
    "\n",
    "print(sorted_words[:10])\n",
    "print(sorted_words[-10:])"
   ]
  },
  {
   "cell_type": "code",
   "execution_count": null,
   "metadata": {},
   "outputs": [],
   "source": [
    "pyplot.figure(figsize=(20, 20))\n",
    "pyplot.xlim(3, 11)\n",
    "pyplot.scatter(log_counts, comedy_tragedy_scores, alpha = 0.2)\n",
    "for word_id, word in enumerate(vocabulary):\n",
    "    if numpy.abs(comedy_tragedy_scores[word_id]) + log_counts[word_id] > 7.5:\n",
    "        pyplot.text(log_counts[word_id], comedy_tragedy_scores[word_id], word)\n",
    "pyplot.show()"
   ]
  }
 ],
 "metadata": {
  "kernelspec": {
   "display_name": "Python 3",
   "language": "python",
   "name": "python3"
  },
  "language_info": {
   "codemirror_mode": {
    "name": "ipython",
    "version": 3
   },
   "file_extension": ".py",
   "mimetype": "text/x-python",
   "name": "python",
   "nbconvert_exporter": "python",
   "pygments_lexer": "ipython3",
   "version": "3.6.9"
  }
 },
 "nbformat": 4,
 "nbformat_minor": 2
}
