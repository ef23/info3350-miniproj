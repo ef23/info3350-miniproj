{
 "cells": [
  {
   "cell_type": "markdown",
   "metadata": {},
   "source": [
    "# Week 2, part 1: tokenization"
   ]
  },
  {
   "cell_type": "markdown",
   "metadata": {},
   "source": [
    "On Wednesday we talked about how encodings allow us to map\n",
    "bytes to characters. In this lesson we'll look at finding\n",
    "meaningful groups of characters.\n",
    "\n",
    "In the git repo you will find six files containing \n",
    "sample text. Each is selected to highlight issues in\n",
    "tokenization. I've included a template for the first\n",
    "one, which we will modify together in class."
   ]
  },
  {
   "cell_type": "code",
   "execution_count": null,
   "metadata": {
    "collapsed": true
   },
   "outputs": [],
   "source": [
    "import re, sys"
   ]
  },
  {
   "cell_type": "code",
   "execution_count": null,
   "metadata": {},
   "outputs": [],
   "source": [
    "## SAMPLE 1\n",
    "\n",
    "## Here's an example of a simple pattern defining a word token. \n",
    "word_pattern = re.compile(\"[\\w]+\")\n",
    "\n",
    "## Specify the UTF-8 encoding. This is default on Mac/Linux, but not all Windows.\n",
    "with open(\"sample1.txt\", encoding=\"utf-8\") as file:\n",
    "    \n",
    "    ## This block reads a file line by line.\n",
    "    for line in file:\n",
    "        line = line.rstrip()\n",
    "        \n",
    "        ## This converts a string (line) into a list (tokens)\n",
    "        tokens = word_pattern.findall(line)\n",
    "        \n",
    "        print(tokens)"
   ]
  },
  {
   "cell_type": "markdown",
   "metadata": {},
   "source": [
    "[Discuss sample 1 here]"
   ]
  },
  {
   "cell_type": "code",
   "execution_count": null,
   "metadata": {
    "collapsed": true
   },
   "outputs": [],
   "source": [
    "## SAMPLE 2\n",
    "\n",
    "### [Copy and modify code as necessary here.]\n",
    "\n",
    "### [Discuss sample 2 here.]"
   ]
  },
  {
   "cell_type": "markdown",
   "metadata": {},
   "source": [
    "[Discuss sample 2 here]"
   ]
  },
  {
   "cell_type": "code",
   "execution_count": null,
   "metadata": {
    "collapsed": true
   },
   "outputs": [],
   "source": [
    "## SAMPLE 3\n",
    "\n",
    "### [Copy and modify code as necessary here.]\n",
    "\n",
    "### [Discuss sample 3 here.]"
   ]
  },
  {
   "cell_type": "markdown",
   "metadata": {},
   "source": [
    "[Discuss sample 3 here]"
   ]
  },
  {
   "cell_type": "code",
   "execution_count": null,
   "metadata": {
    "collapsed": true
   },
   "outputs": [],
   "source": [
    "## SAMPLE 4\n",
    "\n",
    "### [Copy and modify code as necessary here.]\n",
    "\n",
    "### [Discuss sample 4 here.]"
   ]
  },
  {
   "cell_type": "markdown",
   "metadata": {},
   "source": [
    "[Discuss sample 4 here]"
   ]
  },
  {
   "cell_type": "code",
   "execution_count": null,
   "metadata": {
    "collapsed": true
   },
   "outputs": [],
   "source": [
    "## SAMPLE 5\n",
    "\n",
    "### [Copy and modify code as necessary here.]\n",
    "\n",
    "### [Discuss sample 5 here.]"
   ]
  },
  {
   "cell_type": "markdown",
   "metadata": {},
   "source": [
    "[Discuss sample 5 here]"
   ]
  },
  {
   "cell_type": "code",
   "execution_count": null,
   "metadata": {},
   "outputs": [],
   "source": [
    "## SAMPLE 6\n",
    "\n",
    "### [Copy and modify code as necessary here.]\n",
    "\n",
    "### [Discuss sample 6 here.]"
   ]
  },
  {
   "cell_type": "markdown",
   "metadata": {},
   "source": [
    "[Discuss sample 6 here]"
   ]
  }
 ],
 "metadata": {
  "kernelspec": {
   "display_name": "Python 3",
   "language": "python",
   "name": "python3"
  },
  "language_info": {
   "codemirror_mode": {
    "name": "ipython",
    "version": 3
   },
   "file_extension": ".py",
   "mimetype": "text/x-python",
   "name": "python",
   "nbconvert_exporter": "python",
   "pygments_lexer": "ipython3",
   "version": "3.6.9"
  }
 },
 "nbformat": 4,
 "nbformat_minor": 2
}
