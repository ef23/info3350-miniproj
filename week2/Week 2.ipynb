{
 "cells": [
  {
   "cell_type": "markdown",
   "metadata": {},
   "source": [
    "The two readings for this week try to model plot as a cycle of positivity \n",
    "and negativity. How well can we measure these constructs in novels?\n",
    "\n",
    "In this work we'll look at evaluating documents with respect to a fixed\n",
    "vocabulary. I've included two sample sentiment lexicons, one by \n",
    "Bing Liu and one from Matt Jockers' \"syuzhet\" package.\n",
    "\n",
    "( For an interactive look, see this page: https://mimno.infosci.cornell.edu/sentiment/ )"
   ]
  },
  {
   "cell_type": "code",
   "execution_count": 1,
   "metadata": {
    "collapsed": true
   },
   "outputs": [],
   "source": [
    "import re, sys\n",
    "from collections import Counter\n",
    "from matplotlib import pyplot"
   ]
  },
  {
   "cell_type": "markdown",
   "metadata": {},
   "source": [
    " 1. There's a bug in the code. All the paragraphs are being scored as 0.\n",
    "  Fix it, and describe what was happening. \n",
    "\n",
    " [Description here]\n",
    "\n",
    " 2. I'm using the Counter class from the `collections` package instead of a \n",
    "  python `dict`. Consult the documentation https://docs.python.org/3/library/collections.html\n",
    "  and describe four features that Counter provides that dict does not.\n",
    "\n",
    " a.\n",
    " b.\n",
    " c.\n",
    " d.\n",
    "\n",
    " 3. The directory `txt` contains works by Charles Dickens in the correct format:\n",
    "  one paragraph per line. Apply the two lexicons to `tale.txt`. Do they work?\n",
    "  Do they agree? Provide specific examples.\n",
    "\n",
    " [Description here]\n",
    "\n",
    " 4. The code is currently just adding up all the scores for each word token.\n",
    "  This favors longer documents: if we just repeat the contents twice, the score doubles.\n",
    "  What happens if we normalize by document length? In the `score_counts` function,\n",
    "  divide the score by the total number of tokens.\n",
    "\n",
    " [Describe how the output changes here. Is this normalization a good idea? Why or why not?]\n",
    "\n",
    " 5. Working with your table, create a lexicon for one of the emotions listed on\n",
    "  on the board, or choose your own. You may collect additional documents to test\n",
    "  your lexicon, please include these if so.\n",
    "\n",
    " [Include your team's final lexicon in your zip file. Discuss here your personal experience. What was hard about this process?]\n",
    "\n",
    " 6. I've set this up so that we are looking at the most extreme passages in \n",
    "  the sources. What does this approach show, and what does it hide? How does it\n",
    "  affect how we evaluate the tool?\n",
    "\n",
    " [Discuss here]\n",
    "\n",
    " IDEAS FOR YOUR WRITING RESPONSE FOR FRIDAY:\n",
    "\n",
    " Both groups are working from Vonnegut's description of plot. Does this\n",
    "  view really reflect plot? If not, what is missing, and how important is it\n",
    "  to you?\n",
    "\n",
    " Given your experience with lexicon-based sentiment analysis, how well does\n",
    "  it approximate a quantity that's relevant for plot analysis?\n",
    "\n",
    " Would a more nuanced view of emotion lead to a better representation of plot?"
   ]
  },
  {
   "cell_type": "code",
   "execution_count": 7,
   "metadata": {
    "collapsed": true
   },
   "outputs": [],
   "source": [
    "def score_book(lexicon_file, text_file):\n",
    "\n",
    "    ## Create a mapping from words to numbers\n",
    "    word_weights = {}\n",
    "    with open(lexicon_file) as lexicon_reader:\n",
    "        for line in lexicon_reader:\n",
    "            weight, word = line.rstrip().split(\",\") ## split on comma\n",
    "            word_weights[word] = float(weight) ## convert string to number\n",
    "\n",
    "    ## Here's an example of a simple pattern defining a word token. \n",
    "    word_pattern = re.compile(\"\\w[\\w\\-\\']*\\w|\\w\") ## what matches this?\n",
    "\n",
    "    ## Now look at the actual documents. We'll create a list with one object per text segment.\n",
    "    paragraphs = []\n",
    "    \n",
    "    ## here's where we actually read the file\n",
    "    with open(text_file, encoding=\"utf-8\") as file:\n",
    "    \n",
    "        ## This block reads a file line by line.\n",
    "        for line in file:\n",
    "            line = line.rstrip()\n",
    "        \n",
    "            tokens = word_pattern.findall(line)\n",
    "        \n",
    "            ## turn a list into a word->count map\n",
    "            paragraph_counts = Counter(tokens)\n",
    "        \n",
    "            ## create the paragraph object, with the original text, \n",
    "            ##  the word counts, and the total score.\n",
    "            paragraphs.append({'text': line, 'counts': paragraph_counts,\n",
    "                               'score': score_counts(paragraph_counts, word_weights) })\n",
    "    \n",
    "    ## Now sort the objects, in place, by score\n",
    "    paragraphs.sort(key = lambda x: x['score'])\n",
    "\n",
    "    return paragraphs\n",
    "\n",
    "\n",
    "## This function applies the word weights to a list of word counts\n",
    "def score_counts(counter, word_weights):\n",
    "    ## accumulate word weights in this variable\n",
    "    score = 0\n",
    "    \n",
    "    ## count the words in the passage\n",
    "    total_tokens = sum(counter.values())\n",
    "    ## check for empty segments\n",
    "    if total_tokens == 0:\n",
    "        return 0\n",
    "    \n",
    "    ## for each word, look up its score\n",
    "    for word in counter.keys():\n",
    "        if word in word_weights:\n",
    "            score += word_weights[word] * counter[word]\n",
    "    return score"
   ]
  },
  {
   "cell_type": "code",
   "execution_count": 8,
   "metadata": {},
   "outputs": [],
   "source": [
    "paragraphs = score_book(\"syuzhet.csv\", \"txt/bleak.txt\")"
   ]
  },
  {
   "cell_type": "code",
   "execution_count": 9,
   "metadata": {},
   "outputs": [
    {
     "name": "stdout",
     "output_type": "stream",
     "text": [
      "-16.05\tWintry morning, looking with dull eyes and sallow face upon the neighbourhood of Leicester Square, finds its inhabitants unwilling to get out of bed.  Many of them are not early risers at the brightest of times, being birds of night who roost when the sun is high and are wide awake and keen for prey when the stars shine out. Behind dingy blind and curtain, in upper story and garret, skulking more or less under false names, false hair, false titles, false jewellery, and false histories, a colony of brigands lie in their first sleep.  Gentlemen of the green-baize road who could discourse from personal experience of foreign galleys and home treadmills; spies of strong governments that eternally quake with weakness and miserable fear, broken traitors, cowards, bullies, gamesters, shufflers, swindlers, and false witnesses; some not unmarked by the branding-iron beneath their dirty braid; all with more cruelty in them than was in Nero, and more crime than is in Newgate.  For howsoever bad the devil can be in fustian or smock-frock (and he can be very bad in both), he is a more designing, callous, and intolerable devil when he sticks a pin in his shirt-front, calls himself a gentleman, backs a card or colour, plays a game or so of billiards, and knows a little about bills and promissory notes than in any other form he wears.  And in such form Mr. Bucket shall find him, when he will, still pervading the tributary channels of Leicester Square.\n",
      "-11.0\tFor, on a low bed opposite the fire, a confusion of dirty patchwork, lean-ribbed ticking, and coarse sacking, the lawyer, hesitating just within the doorway, sees a man.  He lies there, dressed in shirt and trousers, with bare feet.  He has a yellow look in the spectral darkness of a candle that has guttered down until the whole length of its wick (still burning) has doubled over and left a tower of winding-sheet above it.  His hair is ragged, mingling with his whiskers and his beard--the latter, ragged too, and grown, like the scum and mist around him, in neglect.  Foul and filthy as the room is, foul and filthy as the air is, it is not easy to perceive what fumes those are which most oppress the senses in it; but through the general sickliness and faintness, and the odour of stale tobacco, there comes into the lawyer's mouth the bitter, vapid taste of opium.\n",
      "-10.649999999999999\t\"Sir Leicester Dedlock, the deceased Mr. Tulkinghorn was deep and close, and what he fully had in his mind in the very beginning I can't quite take upon myself to say.  But I know from his lips that he long ago suspected Lady Dedlock of having discovered, through the sight of some handwriting--in this very house, and when you yourself, Sir Leicester Dedlock, were present--the existence, in great poverty, of a certain person who had been her lover before you courted her and who ought to have been her husband.\"  Mr. Bucket stops and deliberately repeats, \"Ought to have been her husband, not a doubt about it.  I know from his lips that when that person soon afterwards died, he suspected Lady Dedlock of visiting his wretched lodging and his wretched grave, alone and in secret. I know from my own inquiries and through my eyes and ears that Lady Dedlock did make such visit in the dress of her own maid, for the deceased Mr. Tulkinghorn employed me to reckon up her ladyship--if you'll excuse my making use of the term we commonly employ--and I reckoned her up, so far, completely.  I confronted the maid in the chambers in Lincoln's Inn Fields with a witness who had been Lady Dedlock's guide, and there couldn't be the shadow of a doubt that she had worn the young woman's dress, unknown to her.  Sir Leicester Dedlock, Baronet, I did endeavour to pave the way a little towards these unpleasant disclosures yesterday by saying that very strange things happened even in high families sometimes. All this, and more, has happened in your own family, and to and through your own Lady.  It's my belief that the deceased Mr. Tulkinghorn followed up these inquiries to the hour of his death and that he and Lady Dedlock even had bad blood between them upon the matter that very night.  Now, only you put that to Lady Dedlock, Sir Leicester Dedlock, Baronet, and ask her ladyship whether, even after he had left here, she didn't go down to his chambers with the intention of saying something further to him, dressed in a loose black mantle with a deep fringe to it.\"\n",
      "-10.4\tAt last we stood under a dark and miserable covered way, where one lamp was burning over an iron gate and where the morning faintly struggled in.  The gate was closed.  Beyond it was a burial ground --a dreadful spot in which the night was very slowly stirring, but where I could dimly see heaps of dishonoured graves and stones, hemmed in by filthy houses with a few dull lights in their windows and on whose walls a thick humidity broke out like a disease.  On the step at the gate, drenched in the fearful wet of such a place, which oozed and splashed down everywhere, I saw, with a cry of pity and horror, a woman lying--Jenny, the mother of the dead child.\n",
      "-10.250000000000002\tThe air of the room is almost bad enough to have extinguished it if he had not.  It is a small room, nearly black with soot, and grease, and dirt.  In the rusty skeleton of a grate, pinched at the middle as if poverty had gripped it, a red coke fire burns low.  In the corner by the chimney stand a deal table and a broken desk, a wilderness marked with a rain of ink.  In another corner a ragged old portmanteau on one of the two chairs serves for cabinet or wardrobe; no larger one is needed, for it collapses like the cheeks of a starved man.  The floor is bare, except that one old mat, trodden to shreds of rope-yarn, lies perishing upon the hearth.  No curtain veils the darkness of the night, but the discoloured shutters are drawn together, and through the two gaunt holes pierced in them, famine might be staring in--the banshee of the man upon the bed.\n",
      "-9.75\tMr. Vholes's office, in disposition retiring and in situation retired, is squeezed up in a corner and blinks at a dead wall. Three feet of knotty-floored dark passage bring the client to Mr. Vholes's jet-black door, in an angle profoundly dark on the brightest midsummer morning and encumbered by a black bulk-head of cellarage staircase against which belated civilians generally strike their brows.  Mr. Vholes's chambers are on so small a scale that one clerk can open the door without getting off his stool, while the other who elbows him at the same desk has equal facilities for poking the fire.  A smell as of unwholesome sheep blending with the smell of must and dust is referable to the nightly (and often daily) consumption of mutton fat in candles and to the fretting of parchment forms and skins in greasy drawers. The atmosphere is otherwise stale and close.  The place was last painted or whitewashed beyond the memory of man, and the two chimneys smoke, and there is a loose outer surface of soot everywhere, and the dull cracked windows in their heavy frames have but one piece of character in them, which is a determination to be always dirty and always shut unless coerced.  This accounts for the phenomenon of the weaker of the two usually having a bundle of firewood thrust between its jaws in hot weather.\n",
      "-8.850000000000001\tSir Leicester receives the gout as a troublesome demon, but still a demon of the patrician order.  All the Dedlocks, in the direct male line, through a course of time during and beyond which the memory of man goeth not to the contrary, have had the gout.  It can be proved, sir.  Other men's fathers may have died of the rheumatism or may have taken base contagion from the tainted blood of the sick vulgar, but the Dedlock family have communicated something exclusive even to the levelling process of dying by dying of their own family gout.  It has come down through the illustrious line like the plate, or the pictures, or the place in Lincolnshire.  It is among their dignities.  Sir Leicester is perhaps not wholly without an impression, though he has never resolved it into words, that the angel of death in the discharge of his necessary duties may observe to the shades of the aristocracy, \"My lords and gentlemen, I have the honour to present to you another Dedlock certified to have arrived per the family gout.\"\n",
      "-8.5\tBut he has his revenge.  Even the winds are his messengers, and they serve him in these hours of darkness.  There is not a drop of Tom's corrupted blood but propagates infection and contagion somewhere.  It shall pollute, this very night, the choice stream (in which chemists on analysis would find the genuine nobility) of a Norman house, and his Grace shall not be able to say nay to the infamous alliance.  There is not an atom of Tom's slime, not a cubic inch of any pestilential gas in which he lives, not one obscenity or degradation about him, not an ignorance, not a wickedness, not a brutality of his committing, but shall work its retribution through every order of society up to the proudest of the proud and to the highest of the high.  Verily, what with tainting, plundering, and spoiling, Tom has his revenge.\n",
      "-8.399999999999999\t\"I have done!\" he said, sitting down and wiping his face.  \"Mr. Jarndyce, I have done!  I am violent, I know.  I ought to know it. I have been in prison for contempt of court.  I have been in prison for threatening the solicitor.  I have been in this trouble, and that trouble, and shall be again.  I am the man from Shropshire, and I sometimes go beyond amusing them, though they have found it amusing, too, to see me committed into custody and brought up in custody and all that.  It would be better for me, they tell me, if I restrained myself.  I tell them that if I did restrain myself I should become imbecile.  I was a good-enough-tempered man once, I believe.  People in my part of the country say they remember me so, but now I must have this vent under my sense of injury or nothing could hold my wits together.  It would be far better for you, Mr. Gridley,' the Lord Chancellor told me last week, 'not to waste your time here, and to stay, usefully employed, down in Shropshire.' 'My Lord, my Lord, I know it would,' said I to him, 'and it would have been far better for me never to have heard the name of your high office, but unhappily for me, I can't undo the past, and the past drives me here!'  Besides,\" he added, breaking fiercely out, \"I'll shame them.  To the last, I'll show myself in that court to its shame.  If I knew when I was going to die, and could be carried there, and had a voice to speak with, I would die there, saying, 'You have brought me here and sent me from here many and many a time.  Now send me out feet foremost!'\"\n",
      "14.100000000000001\tHas Mr. Tulkinghorn any idea of this himself?  It may be so, or it may not, but there is this remarkable circumstance to be noted in everything associated with my Lady Dedlock as one of a class--as one of the leaders and representatives of her little world.  She supposes herself to be an inscrutable Being, quite out of the reach and ken of ordinary mortals--seeing herself in her glass, where indeed she looks so.  Yet every dim little star revolving about her, from her maid to the manager of the Italian Opera, knows her weaknesses, prejudices, follies, haughtinesses, and caprices and lives upon as accurate a calculation and as nice a measure of her moral nature as her dressmaker takes of her physical proportions. Is a new dress, a new custom, a new singer, a new dancer, a new form of jewellery, a new dwarf or giant, a new chapel, a new anything, to be set up?  There are deferential people in a dozen callings whom my Lady Dedlock suspects of nothing but prostration before her, who can tell you how to manage her as if she were a baby, who do nothing but nurse her all their lives, who, humbly affecting to follow with profound subservience, lead her and her whole troop after them; who, in hooking one, hook all and bear them off as Lemuel Gulliver bore away the stately fleet of the majestic Lilliput.  \"If you want to address our people, sir,\" say Blaze and Sparkle, the jewellers--meaning by our people Lady Dedlock and the rest--\"you must remember that you are not dealing with the general public; you must hit our people in their weakest place, and their weakest place is such a place.\"  \"To make this article go down, gentlemen,\" say Sheen and Gloss, the mercers, to their friends the manufacturers, \"you must come to us, because we know where to have the fashionable people, and we can make it fashionable.\"  \"If you want to get this print upon the tables of my high connexion, sir,\" says Mr. Sladdery, the librarian, \"or if you want to get this dwarf or giant into the houses of my high connexion, sir, or if you want to secure to this entertainment the patronage of my high connexion, sir, you must leave it, if you please, to me, for I have been accustomed to study the leaders of my high connexion, sir, and I may tell you without vanity that I can turn them round my finger\"-- in which Mr. Sladdery, who is an honest man, does not exaggerate at all.\n",
      "14.2\tThe furniture, old-fashioned rather than old, like the house, was as pleasantly irregular.  Ada's sleeping-room was all flowers--in chintz and paper, in velvet, in needlework, in the brocade of two stiff courtly chairs which stood, each attended by a little page of a stool for greater state, on either side of the fire-place.  Our sitting-room was green and had framed and glazed upon the walls numbers of surprising and surprised birds, staring out of pictures at a real trout in a case, as brown and shining as if it had been served with gravy; at the death of Captain Cook; and at the whole process of preparing tea in China, as depicted by Chinese artists. In my room there were oval engravings of the months--ladies haymaking in short waists and large hats tied under the chin, for June; smooth-legged noblemen pointing with cocked-hats to village steeples, for October.  Half-length portraits in crayons abounded all through the house, but were so dispersed that I found the brother of a youthful officer of mine in the china-closet and the grey old age of my pretty young bride, with a flower in her bodice, in the breakfast-room.  As substitutes, I had four angels, of Queen Anne's reign, taking a complacent gentleman to heaven, in festoons, with some difficulty; and a composition in needlework representing fruit, a kettle, and an alphabet.  All the movables, from the wardrobes to the chairs and tables, hangings, glasses, even to the pincushions and scent-bottles on the dressing-tables, displayed the same quaint variety.  They agreed in nothing but their perfect neatness, their display of the whitest linen, and their storing-up, wheresoever the existence of a drawer, small or large, rendered it possible, of quantities of rose-leaves and sweet lavender.  Such, with its illuminated windows, softened here and there by shadows of curtains, shining out upon the starlight night; with its light, and warmth, and comfort; with its hospitable jingle, at a distance, of preparations for dinner; with the face of its generous master brightening everything we saw; and just wind enough without to sound a low accompaniment to everything we heard, were our first impressions of Bleak House.\n",
      "14.250000000000002\tAt Blaze and Sparkle's the jewellers and at Sheen and Gloss's the mercers, it is and will be for several hours the topic of the age, the feature of the century.  The patronesses of those establishments, albeit so loftily inscrutable, being as nicely weighed and measured there as any other article of the stock-in-trade, are perfectly understood in this new fashion by the rawest hand behind the counter. \"Our people, Mr. Jones,\" said Blaze and Sparkle to the hand in question on engaging him, \"our people, sir, are sheep--mere sheep. Where two or three marked ones go, all the rest follow.  Keep those two or three in your eye, Mr. Jones, and you have the flock.\"  So, likewise, Sheen and Gloss to THEIR Jones, in reference to knowing where to have the fashionable people and how to bring what they (Sheen and Gloss) choose into fashion.  On similar unerring principles, Mr. Sladdery the librarian, and indeed the great farmer of gorgeous sheep, admits this very day, \"Why yes, sir, there certainly ARE reports concerning Lady Dedlock, very current indeed among my high connexion, sir.  You see, my high connexion must talk about something, sir; and it's only to get a subject into vogue with one or two ladies I could name to make it go down with the whole.  Just what I should have done with those ladies, sir, in the case of any novelty you had left to me to bring in, they have done of themselves in this case through knowing Lady Dedlock and being perhaps a little innocently jealous of her too, sir.  You'll find, sir, that this topic will be very popular among my high connexion.  If it had been a speculation, sir, it would have brought money.  And when I say so, you may trust to my being right, sir, for I have made it my business to study my high connexion and to be able to wind it up like a clock, sir.\"\n",
      "14.4\tIt is the old girl's birthday, and that is the greatest holiday and reddest-letter day in Mr. Bagnet's calendar.  The auspicious event is always commemorated according to certain forms settled and prescribed by Mr. Bagnet some years since.  Mr. Bagnet, being deeply convinced that to have a pair of fowls for dinner is to attain the highest pitch of imperial luxury, invariably goes forth himself very early in the morning of this day to buy a pair; he is, as invariably, taken in by the vendor and installed in the possession of the oldest inhabitants of any coop in Europe. Returning with these triumphs of toughness tied up in a clean blue and white cotton handkerchief (essential to the arrangements), he in a casual manner invites Mrs. Bagnet to declare at breakfast what she would like for dinner.  Mrs. Bagnet, by a coincidence never known to fail, replying fowls, Mr. Bagnet instantly produces his bundle from a place of concealment amidst general amazement and rejoicing.  He further requires that the old girl shall do nothing all day long but sit in her very best gown and be served by himself and the young people.  As he is not illustrious for his cookery, this may be supposed to be a matter of state rather than enjoyment on the old girl's part, but she keeps her state with all imaginable cheerfulness.\n",
      "14.450000000000001\t\"Observe the case, my dear Miss Summerson.  Here is a boy received into the house and put to bed in a state that I strongly object to. The boy being in bed, a man arrives--like the house that Jack built.  Here is the man who demands the boy who is received into the house and put to bed in a state that I strongly object to. Here is a bank-note produced by the man who demands the boy who is received into the house and put to bed in a state that I strongly object to.  Here is the Skimpole who accepts the bank-note produced by the man who demands the boy who is received into the house and put to bed in a state that I strongly object to.  Those are the facts.  Very well.  Should the Skimpole have refused the note?  WHY should the Skimpole have refused the note?  Skimpole protests to Bucket, 'What's this for?  I don't understand it, it is of no use to me, take it away.'  Bucket still entreats Skimpole to accept it. Are there reasons why Skimpole, not being warped by prejudices, should accept it?  Yes.  Skimpole perceives them.  What are they? Skimpole reasons with himself, this is a tamed lynx, an active police-officer, an intelligent man, a person of a peculiarly directed energy and great subtlety both of conception and execution, who discovers our friends and enemies for us when they run away, recovers our property for us when we are robbed, avenges us comfortably when we are murdered.  This active police-officer and intelligent man has acquired, in the exercise of his art, a strong faith in money; he finds it very useful to him, and he makes it very useful to society.  Shall I shake that faith in Bucket because I want it myself; shall I deliberately blunt one of Bucket's weapons; shall I positively paralyse Bucket in his next detective operation?  And again.  If it is blameable in Skimpole to take the note, it is blameable in Bucket to offer the note--much more blameable in Bucket, because he is the knowing man.  Now, Skimpole wishes to think well of Bucket; Skimpole deems it essential, in its little place, to the general cohesion of things, that he SHOULD think well of Bucket.  The state expressly asks him to trust to Bucket.  And he does.  And that's all he does!\"\n",
      "14.65\tIf a good fairy had built the house for me with a wave of her wand, and I had been a princess and her favoured god-child, I could not have been more considered in it.  So many preparations were made for me and such an endearing remembrance was shown of all my little tastes and likings that I could have sat down, overcome, a dozen times before I had revisited half the rooms.  I did better than that, however, by showing them all to Charley instead.  Charley's delight calmed mine; and after we had had a walk in the garden, and Charley had exhausted her whole vocabulary of admiring expressions, I was as tranquilly happy as I ought to have been.  It was a great comfort to be able to say to myself after tea, \"Esther, my dear, I think you are quite sensible enough to sit down now and write a note of thanks to your host.\"  He had left a note of welcome for me, as sunny as his own face, and had confided his bird to my care, which I knew to be his highest mark of confidence.  Accordingly I wrote a little note to him in London, telling him how all his favourite plants and trees were looking, and how the most astonishing of birds had chirped the honours of the house to me in the most hospitable manner, and how, after singing on my shoulder, to the inconceivable rapture of my little maid, he was then at roost in the usual corner of his cage, but whether dreaming or no I could not report.  My note finished and sent off to the post, I made myself very busy in unpacking and arranging; and I sent Charley to bed in good time and told her I should want her no more that night.\n",
      "15.55\tWishing to be fully re-established in my strength and my good spirits before Ada came, I now laid down a little series of plans with Charley for being in the fresh air all day long.  We were to be out before breakfast, and were to dine early, and were to be out again before and after dinner, and were to talk in the garden after tea, and were to go to rest betimes, and were to climb every hill and explore every road, lane, and field in the neighbourhood.  As to restoratives and strengthening delicacies, Mr. Boythorn's good housekeeper was for ever trotting about with something to eat or drink in her hand; I could not even be heard of as resting in the park but she would come trotting after me with a basket, her cheerful face shining with a lecture on the importance of frequent nourishment.  Then there was a pony expressly for my riding, a chubby pony with a short neck and a mane all over his eyes who could canter--when he would--so easily and quietly that he was a treasure.  In a very few days he would come to me in the paddock when I called him, and eat out of my hand, and follow me about.  We arrived at such a capital understanding that when he was jogging with me lazily, and rather obstinately, down some shady lane, if I patted his neck and said, \"Stubbs, I am surprised you don't canter when you know how much I like it; and I think you might oblige me, for you are only getting stupid and going to sleep,\" he would give his head a comical shake or two and set off directly, while Charley would stand still and laugh with such enjoyment that her laughter was like music.  I don't know who had given Stubbs his name, but it seemed to belong to him as naturally as his rough coat.  Once we put him in a little chaise and drove him triumphantly through the green lanes for five miles; but all at once, as we were extolling him to the skies, he seemed to take it ill that he should have been accompanied so far by the circle of tantalizing little gnats that had been hovering round and round his ears the whole way without appearing to advance an inch, and stopped to think about it.  I suppose he came to the decision that it was not to be borne, for he steadily refused to move until I gave the reins to Charley and got out and walked, when he followed me with a sturdy sort of good humour, putting his head under my arm and rubbing his ear against my sleeve.  It was in vain for me to say, \"Now, Stubbs, I feel quite sure from what I know of you that you will go on if I ride a little while,\" for the moment I left him, he stood stock still again.  Consequently I was obliged to lead the way, as before; and in this order we returned home, to the great delight of the village.\n",
      "18.349999999999994\tIt was not a love letter, though it expressed so much love, but was written just as he would at any time have spoken to me.  I saw his face, and heard his voice, and felt the influence of his kind protecting manner in every line.  It addressed me as if our places were reversed, as if all the good deeds had been mine and all the feelings they had awakened his.  It dwelt on my being young, and he past the prime of life; on his having attained a ripe age, while I was a child; on his writing to me with a silvered head, and knowing all this so well as to set it in full before me for mature deliberation.  It told me that I would gain nothing by such a marriage and lose nothing by rejecting it, for no new relation could enhance the tenderness in which he held me, and whatever my decision was, he was certain it would be right.  But he had considered this step anew since our late confidence and had decided on taking it, if it only served to show me through one poor instance that the whole world would readily unite to falsify the stern prediction of my childhood.  I was the last to know what happiness I could bestow upon him, but of that he said no more, for I was always to remember that I owed him nothing and that he was my debtor, and for very much.  He had often thought of our future, and foreseeing that the time must come, and fearing that it might come soon, when Ada (now very nearly of age) would leave us, and when our present mode of life must be broken up, had become accustomed to reflect on this proposal.  Thus he made it.  If I felt that I could ever give him the best right he could have to be my protector, and if I felt that I could happily and justly become the dear companion of his remaining life, superior to all lighter chances and changes than death, even then he could not have me bind myself irrevocably while this letter was yet so new to me, but even then I must have ample time for reconsideration.  In that case, or in the opposite case, let him be unchanged in his old relation, in his old manner, in the old name by which I called him.  And as to his bright Dame Durden and little housekeeper, she would ever be the same, he knew.\n",
      "18.400000000000002\tI gathered from the conversation that Mr. Skimpole had been educated for the medical profession and had once lived, in his professional capacity, in the household of a German prince.  He told us, however, that as he had always been a mere child in point of weights and measures and had never known anything about them (except that they disgusted him), he had never been able to prescribe with the requisite accuracy of detail.  In fact, he said, he had no head for detail.  And he told us, with great humour, that when he was wanted to bleed the prince or physic any of his people, he was generally found lying on his back in bed, reading the newspapers or making fancy-sketches in pencil, and couldn't come. The prince, at last, objecting to this, \"in which,\" said Mr. Skimpole, in the frankest manner, \"he was perfectly right,\" the engagement terminated, and Mr. Skimpole having (as he added with delightful gaiety) \"nothing to live upon but love, fell in love, and married, and surrounded himself with rosy cheeks.\"  His good friend Jarndyce and some other of his good friends then helped him, in quicker or slower succession, to several openings in life, but to no purpose, for he must confess to two of the oldest infirmities in the world: one was that he had no idea of time, the other that he had no idea of money.  In consequence of which he never kept an appointment, never could transact any business, and never knew the value of anything!  Well!  So he had got on in life, and here he was!  He was very fond of reading the papers, very fond of making fancy-sketches with a pencil, very fond of nature, very fond of art.  All he asked of society was to let him live.  THAT wasn't much.  His wants were few.  Give him the papers, conversation, music, mutton, coffee, landscape, fruit in the season, a few sheets of Bristol-board, and a little claret, and he asked no more.  He was a mere child in the world, but he didn't cry for the moon.  He said to the world, \"Go your several ways in peace!  Wear red coats, blue coats, lawn sleeves; put pens behind your ears, wear aprons; go after glory, holiness, commerce, trade, any object you prefer; only--let Harold Skimpole live!\"\n"
     ]
    }
   ],
   "source": [
    "## Display the 10 most negative\n",
    "for paragraph in paragraphs[0:9]:\n",
    "    print(\"{}\\t{}\".format(paragraph['score'], paragraph['text']))\n",
    "\n",
    "## ... and the 10 most positive\n",
    "for paragraph in paragraphs[-10:-1]:\n",
    "    print(\"{}\\t{}\".format(paragraph['score'], paragraph['text']))"
   ]
  }
 ],
 "metadata": {
  "kernelspec": {
   "display_name": "Python 3",
   "language": "python",
   "name": "python3"
  },
  "language_info": {
   "codemirror_mode": {
    "name": "ipython",
    "version": 3
   },
   "file_extension": ".py",
   "mimetype": "text/x-python",
   "name": "python",
   "nbconvert_exporter": "python",
   "pygments_lexer": "ipython3",
   "version": "3.6.9"
  }
 },
 "nbformat": 4,
 "nbformat_minor": 2
}
