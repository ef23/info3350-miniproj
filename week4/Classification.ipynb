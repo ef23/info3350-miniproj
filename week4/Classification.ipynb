{
 "cells": [
  {
   "cell_type": "markdown",
   "metadata": {},
   "source": [
    "# Classifying documents\n",
    "\n",
    "Today we'll define probability distributions from sets of documents, and make predictions using those probability distributions.\n",
    "\n",
    "We will encounter several problems:\n",
    "\n",
    "1. Multiplying small probabilities is hard\n",
    "\n",
    "2. Some words don't appear in every class\n",
    "\n",
    "3. Classification can be \"too easy\" if we are comparing documents to themselves"
   ]
  },
  {
   "cell_type": "code",
   "execution_count": null,
   "metadata": {
    "collapsed": true
   },
   "outputs": [],
   "source": [
    "import re, sys, glob, math\n",
    "from collections import Counter\n",
    "import numpy"
   ]
  },
  {
   "cell_type": "markdown",
   "metadata": {},
   "source": [
    "We will use the same files and data structures as last week: Shakespeare plays in UTF-16 and Counters for each genre and play.\n",
    "\n",
    "1. Write a function that takes a word and a genre and returns the probability of that word in that genre. Calculate this for \"Brutus\", \"Romeo\", \"death\", and \"duke\".\n",
    "\n",
    "2. Write a function that takes a Counter of words and a genre and returns the probability of the full sequence. Calculate the probability of \"to be or not to be that is the question\" and \"romeo romeo wherefore art thou romeo\" in all three genres.\n",
    "\n",
    "3. Add a smoothing parameter to the previous functions, with default 0. Add this paramter to the count for the word and the size of the vocabulary to the numerator. Recalculate the previous sentences. Find words that increase in probability and words that decrease in probability when you change the smoothing parameter.\n",
    "\n",
    "4. Calculate the probability of the Counter for *Romeo and Juliet* in all three genres. Is this informative? Why or why not?\n",
    "\n",
    "5. Create a new function that calculates the *log* probability of a Counter given a genre and a smoothing parameter. Calculate the log probability of *Romeo and Juliet*.\n",
    "\n",
    "6. Is this a fair comparison? Why or why not? If not, what can we do to make it more fair? Write a function that calculates the log probability of a play as if that play had never been previously seen. Recalculate the log probability for *Romeo and Juliet*."
   ]
  },
  {
   "cell_type": "code",
   "execution_count": null,
   "metadata": {},
   "outputs": [],
   "source": [
    "# Use the files from last week\n",
    "genre_directories = { \"tragedy\" : \"../week3/shakespeare/tragedies\", \"comedy\" : \"../week3/shakespeare/comedies\", \"history\" : \"../week3/shakespeare/historical\" }\n",
    "\n",
    "word_pattern = re.compile(\"\\w[\\w\\-\\']*\\w|\\w\")\n",
    "\n",
    "# This counter will store the total frequency of each word type across all plays\n",
    "all_counts = Counter()\n",
    "\n",
    "# This dictionary will have one counter for each genre\n",
    "genre_counts = {}\n",
    "\n",
    "# This dictionary will have one dictionary for each genre, each containing one Counter for each play in that genre\n",
    "genre_play_counts = {}"
   ]
  },
  {
   "cell_type": "code",
   "execution_count": null,
   "metadata": {
    "collapsed": true
   },
   "outputs": [],
   "source": [
    "\n",
    "for genre in genre_directories.keys():\n",
    "    \n",
    "    genre_play_counts[genre] = {}\n",
    "    genre_counts[genre] = Counter()\n",
    "    \n",
    "    for filename in glob.glob(\"{}/*.txt\".format(genre_directories[genre])):\n",
    "        \n",
    "        play_counter = Counter()\n",
    "        \n",
    "        genre_play_counts[genre][filename] = play_counter\n",
    "        \n",
    "        with open(filename, encoding=\"utf-16\") as file: ## What encoding?\n",
    "            \n",
    "            ## This block reads a file line by line.\n",
    "            for line in file:\n",
    "                line = line.rstrip()\n",
    "                if not line.startswith(\"\\t\"):\n",
    "                    continue\n",
    "                \n",
    "                line = line.lower()\n",
    "                \n",
    "                tokens = word_pattern.findall(line)\n",
    "                \n",
    "                play_counter.update(tokens)\n",
    "        \n",
    "        genre_counts[genre] += play_counter\n",
    "        all_counts += play_counter"
   ]
  },
  {
   "cell_type": "code",
   "execution_count": null,
   "metadata": {},
   "outputs": [],
   "source": [
    "genre_counts.keys()"
   ]
  },
  {
   "cell_type": "code",
   "execution_count": null,
   "metadata": {},
   "outputs": [],
   "source": [
    "# Since this is long, here's the dict key for R&J:\n",
    "romeo_title = \"../week3/shakespeare/tragedies/Romeo And Juliet.txt\"\n",
    "\n",
    "genre_play_counts[\"tragedy\"][romeo_title].most_common(10)"
   ]
  },
  {
   "cell_type": "code",
   "execution_count": null,
   "metadata": {},
   "outputs": [],
   "source": [
    "vocabulary = [w for w, c in all_counts.most_common()]\n",
    "vocabulary_size = len(vocabulary)\n",
    "\n",
    "total_word_counts = numpy.array([all_counts[w] for w in vocabulary])\n",
    "log_counts = numpy.log(total_word_counts)\n",
    "\n",
    "word_ranks = numpy.arange(len(vocabulary)) + 1\n",
    "log_ranks = numpy.log(word_ranks)\n",
    "\n",
    "genres = genre_play_counts.keys()\n"
   ]
  },
  {
   "cell_type": "code",
   "execution_count": null,
   "metadata": {
    "collapsed": true
   },
   "outputs": [],
   "source": [
    "# Write functions below\n"
   ]
  }
 ],
 "metadata": {
  "kernelspec": {
   "display_name": "Python 3",
   "language": "python",
   "name": "python3"
  },
  "language_info": {
   "codemirror_mode": {
    "name": "ipython",
    "version": 3
   },
   "file_extension": ".py",
   "mimetype": "text/x-python",
   "name": "python",
   "nbconvert_exporter": "python",
   "pygments_lexer": "ipython3",
   "version": "3.6.9"
  }
 },
 "nbformat": 4,
 "nbformat_minor": 2
}
