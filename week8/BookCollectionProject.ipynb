{
 "cells": [
  {
   "cell_type": "markdown",
   "metadata": {},
   "source": [
    "# In-class Project: Create your own book collection\n",
    "\n",
    "In previous projects I have either collected documents for you (Zane Grey novels) or specified which works to collect (Federalist Papers). In this project I would like to create a collection of fiction from [Project Gutenberg](http://www.gutenberg.org).\n",
    "\n",
    "Your assignment for this week will include curating *two* (2) works from this collection. Select works composed in English after 1500. Translations of works originally in other languages, including works originally before 1500, are fine.\n",
    "\n",
    "Before we begin, we will decide how to edit the text files, which metadata to collect, and how to format everything. What analysis do we want to support, and what information do we need in order to do that analysis?\n",
    "\n",
    "* Step 1: Record metadata for each work in [this spreadsheet](https://docs.google.com/spreadsheets/d/1P7R63Fe4Ofmp81Lf46sV1HMafn02xDCt084hDjlFNLs/edit?usp=sharing). Insert rows in alphabetical order by author last name to reduce the chance of duplicates.\n",
    "* Step 2: Upload one UTF-8 encoded `.txt` file for each work to [this Cornell Box shared folder](https://cornell.box.com/s/97galxzpatomoudzm288xtf5awb7yifl).\n",
    "* Step 3: Find another student to check that you have met all formatting and metadata guidelines. In order to reduce the chance of local errors, you should check the work of a different student than the one checking your work.\n",
    "\n",
    "Since it's almost Halloween I would like to make sure we have a good selection of scary stories. We can use [the Gutenberg horror \"bookshelf\"](http://www.gutenberg.org/ebooks/bookshelf/42) as a start, but feel free to add more."
   ]
  }
 ],
 "metadata": {
  "kernelspec": {
   "display_name": "Python 3",
   "language": "python",
   "name": "python3"
  },
  "language_info": {
   "codemirror_mode": {
    "name": "ipython",
    "version": 3
   },
   "file_extension": ".py",
   "mimetype": "text/x-python",
   "name": "python",
   "nbconvert_exporter": "python",
   "pygments_lexer": "ipython3",
   "version": "3.6.9"
  }
 },
 "nbformat": 4,
 "nbformat_minor": 2
}
