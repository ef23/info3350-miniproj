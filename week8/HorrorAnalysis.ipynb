{
 "cells": [
  {
   "cell_type": "markdown",
   "metadata": {},
   "source": [
    "# Starting analysis of horror/non-horror collection\n",
    "\n",
    "There are enough remaining issues with our collection that I'm going to add an extra week on this project. No programming homework this week!\n",
    "\n",
    "We will start to look at the 2D plots used in the Allison et al. reading."
   ]
  },
  {
   "cell_type": "code",
   "execution_count": null,
   "metadata": {},
   "outputs": [],
   "source": [
    "import csv, sys, os, re\n",
    "from collections import Counter\n",
    "import numpy\n",
    "\n",
    "from matplotlib import pyplot\n",
    "\n",
    "word_pattern = re.compile(\"\\w[\\w\\-\\']*\\w|\\w\")"
   ]
  },
  {
   "cell_type": "code",
   "execution_count": null,
   "metadata": {},
   "outputs": [],
   "source": [
    "documents = []\n",
    "\n",
    "with open(\"../data/Gutenberg-2019-10-21/metadata.csv\", encoding=\"utf-8\") as reader:\n",
    "    csv_reader = csv.DictReader(reader)\n",
    "    for document in csv_reader:\n",
    "        try:\n",
    "            with open(\"../data/Gutenberg-2019-10-21/{}\".format(document[\"Filename\"]), encoding=\"utf-8\") as reader:\n",
    "                print(document[\"Author\"] + \" / \" + document[\"Title\"])\n",
    "\n",
    "                lines = []\n",
    "                for line in reader:\n",
    "                    lines.append(line.rstrip())\n",
    "\n",
    "                text = \" \".join(lines)\n",
    "                document[\"Text\"] = text\n",
    "                document[\"Tokens\"] = word_pattern.findall(text)\n",
    "                \n",
    "                documents.append(document)\n",
    "        except Exception as e:\n",
    "            print(\"! Problem with {}: {}\".format(document[\"Filename\"], e))"
   ]
  },
  {
   "cell_type": "code",
   "execution_count": null,
   "metadata": {},
   "outputs": [],
   "source": [
    "all_counts = Counter()\n",
    "\n",
    "for document in documents:\n",
    "    doc_counter = Counter(document[\"Tokens\"])\n",
    "    all_counts += doc_counter   \n",
    "    document[\"TokenCounts\"] = doc_counter"
   ]
  },
  {
   "cell_type": "code",
   "execution_count": null,
   "metadata": {},
   "outputs": [],
   "source": [
    "# Construct a fixed vocabulary\n",
    "\n",
    "vocabulary = [w for w, c in all_counts.most_common()]\n",
    "vocabulary_size = len(vocabulary)\n",
    "\n",
    "reverse_vocab = { w: i for i, w in enumerate(vocabulary) }"
   ]
  },
  {
   "cell_type": "code",
   "execution_count": null,
   "metadata": {},
   "outputs": [],
   "source": [
    "def counter_to_vector(counter):\n",
    "    vector = numpy.zeros(vocabulary_size)\n",
    "    for word in counter.keys():\n",
    "        ## look up the integer ID for the string\n",
    "        word_id = reverse_vocab[word]\n",
    "        vector[word_id] = counter[word]\n",
    "    \n",
    "    return vector"
   ]
  },
  {
   "cell_type": "code",
   "execution_count": null,
   "metadata": {},
   "outputs": [],
   "source": [
    "# Convert counters to vectors\n",
    "doc_word_matrix = numpy.zeros( (len(documents), len(vocabulary)) )\n",
    "\n",
    "for doc_id, document in enumerate(documents):\n",
    "    doc_word_matrix[doc_id,:] = counter_to_vector(document[\"TokenCounts\"])"
   ]
  },
  {
   "cell_type": "code",
   "execution_count": null,
   "metadata": {},
   "outputs": [],
   "source": [
    "doc_word_matrix[:5,:5]"
   ]
  },
  {
   "cell_type": "code",
   "execution_count": null,
   "metadata": {},
   "outputs": [],
   "source": [
    "doc_vectors,S,word_vectors = numpy.linalg.svd(doc_word_matrix, full_matrices=False)"
   ]
  },
  {
   "cell_type": "code",
   "execution_count": null,
   "metadata": {},
   "outputs": [],
   "source": [
    "pyplot.figure(figsize=(14, 8))\n",
    "pyplot.yticks([])\n",
    "pyplot.xticks(range(75), vocabulary[:75], rotation=\"vertical\")\n",
    "pyplot.imshow(word_vectors[:5,:75])\n",
    "pyplot.show()"
   ]
  },
  {
   "cell_type": "code",
   "execution_count": null,
   "metadata": {},
   "outputs": [],
   "source": [
    "def show_2d(dimension1, dimension2):\n",
    "    colors = [\"red\" if \"Horror\" in doc[\"Genre\"] else \"blue\" for doc in documents]\n",
    "    \n",
    "    pyplot.figure(figsize=(10,10))\n",
    "    pyplot.scatter(doc_vectors[:,dimension1], doc_vectors[:,dimension2], c=colors)\n",
    "    for doc_id, document in enumerate(documents):\n",
    "        pyplot.text(doc_vectors[doc_id,dimension1], \n",
    "                   doc_vectors[doc_id,dimension2],\n",
    "                   document[\"Title\"])\n",
    "    pyplot.show()"
   ]
  },
  {
   "cell_type": "code",
   "execution_count": null,
   "metadata": {},
   "outputs": [],
   "source": [
    "show_2d(0,1)"
   ]
  }
 ],
 "metadata": {
  "kernelspec": {
   "display_name": "Python 3",
   "language": "python",
   "name": "python3"
  },
  "language_info": {
   "codemirror_mode": {
    "name": "ipython",
    "version": 3
   },
   "file_extension": ".py",
   "mimetype": "text/x-python",
   "name": "python",
   "nbconvert_exporter": "python",
   "pygments_lexer": "ipython3",
   "version": "3.6.9"
  }
 },
 "nbformat": 4,
 "nbformat_minor": 2
}
